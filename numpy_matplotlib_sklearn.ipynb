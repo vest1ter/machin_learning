{
  "nbformat": 4,
  "nbformat_minor": 0,
  "metadata": {
    "colab": {
      "provenance": [],
      "toc_visible": true,
      "authorship_tag": "ABX9TyO1AHCgIIydTo+kRnlu4Zqp",
      "include_colab_link": true
    },
    "kernelspec": {
      "name": "python3",
      "display_name": "Python 3"
    },
    "language_info": {
      "name": "python"
    }
  },
  "cells": [
    {
      "cell_type": "markdown",
      "metadata": {
        "id": "view-in-github",
        "colab_type": "text"
      },
      "source": [
        "<a href=\"https://colab.research.google.com/github/vest1ter/machin_learning/blob/master/numpy_matplotlib_sklearn.ipynb\" target=\"_parent\"><img src=\"https://colab.research.google.com/assets/colab-badge.svg\" alt=\"Open In Colab\"/></a>"
      ]
    },
    {
      "cell_type": "markdown",
      "source": [
        "# PANDAS"
      ],
      "metadata": {
        "id": "ZUW__nDPUAAI"
      }
    },
    {
      "cell_type": "code",
      "execution_count": null,
      "metadata": {
        "colab": {
          "base_uri": "https://localhost:8080/"
        },
        "id": "KKFwigrcU8do",
        "outputId": "161a5fde-cd5f-4f0b-ff53-cac58541640f"
      },
      "outputs": [
        {
          "output_type": "stream",
          "name": "stdout",
          "text": [
            "1000\n",
            "8\n"
          ]
        },
        {
          "output_type": "execute_result",
          "data": {
            "text/plain": [
              "1"
            ]
          },
          "metadata": {},
          "execution_count": 30
        }
      ],
      "source": [
        "import pandas as pd\n",
        "data_file = pd.read_csv('/content/sample_data/StudentsPerformance (1).csv')\n",
        "#print(data_file.head())\n",
        "print(len(data_file.axes[0]))\n",
        "print(len(data_file.axes[1]))\n",
        "subset_1 = data_file.iloc[0:10,[0,2]]\n",
        "subset_1\n",
        "subset_2 = data_file.iloc[35:68,[1,3]]\n",
        "subset_2\n",
        "subset_3 = data_file.iloc[-40:]\n",
        "subset_3\n",
        "math = data_file['math score']>60\n",
        "read = data_file['reading score']==80\n",
        "subset2_1 = data_file.loc[math & read]\n",
        "#subset2_1\n",
        "write = data_file['writing score'] != 71\n",
        "readi = data_file['reading score'] > 68.5\n",
        "subset2_2 = data_file.loc[write | readi]\n",
        "#subset2_2\n",
        "math_sr = data_file['math score'] > data_file.describe().iloc[1,0]\n",
        "#print(math_sr)\n",
        "#print(data_file.describe().iloc[1,0])\n",
        "read_sr = data_file['reading score'] > data_file.describe().iloc[1,1]\n",
        "write_sr = data_file['writing score'] > data_file.describe().iloc[1,2]\n",
        "subset2_3 = [math_sr & read_sr & write_sr]\n",
        "subset2_3\n",
        "len(subset_1)\n",
        "len(subset_2)\n",
        "len(subset_3)\n",
        "len(subset2_1)\n",
        "len(subset2_2)\n",
        "len(subset2_3)"
      ]
    },
    {
      "cell_type": "code",
      "source": [
        "data_file = data_file.rename(columns={'math score':'math_score'})"
      ],
      "metadata": {
        "id": "WVzy69pwaKiH"
      },
      "execution_count": null,
      "outputs": []
    },
    {
      "cell_type": "code",
      "source": [
        "\n",
        "import pandas as pd\n",
        "\n",
        "data_file = pd.read_csv('/content/sample_data/StudentsPerformance (1).csv')\n",
        "data_file = data_file.rename(columns={'math score':'math_score'})\n",
        "lch = data_file[data_file['lunch']=='standard'].math_score.mean()\n",
        "lch"
      ],
      "metadata": {
        "id": "YsrI3nCLVmnc",
        "colab": {
          "base_uri": "https://localhost:8080/",
          "height": 416
        },
        "outputId": "b20e501a-d5ff-4803-d209-9c8bb75fe983"
      },
      "execution_count": null,
      "outputs": [
        {
          "output_type": "error",
          "ename": "FileNotFoundError",
          "evalue": "ignored",
          "traceback": [
            "\u001b[0;31m---------------------------------------------------------------------------\u001b[0m",
            "\u001b[0;31mFileNotFoundError\u001b[0m                         Traceback (most recent call last)",
            "\u001b[0;32m<ipython-input-44-30fa69bf4b1d>\u001b[0m in \u001b[0;36m<module>\u001b[0;34m\u001b[0m\n\u001b[1;32m      1\u001b[0m \u001b[0;32mimport\u001b[0m \u001b[0mpandas\u001b[0m \u001b[0;32mas\u001b[0m \u001b[0mpd\u001b[0m\u001b[0;34m\u001b[0m\u001b[0;34m\u001b[0m\u001b[0m\n\u001b[1;32m      2\u001b[0m \u001b[0;34m\u001b[0m\u001b[0m\n\u001b[0;32m----> 3\u001b[0;31m \u001b[0mdata_file\u001b[0m \u001b[0;34m=\u001b[0m \u001b[0mpd\u001b[0m\u001b[0;34m.\u001b[0m\u001b[0mread_csv\u001b[0m\u001b[0;34m(\u001b[0m\u001b[0;34m'/content/sample_data/StudentsPerformance (1).csv'\u001b[0m\u001b[0;34m)\u001b[0m\u001b[0;34m\u001b[0m\u001b[0;34m\u001b[0m\u001b[0m\n\u001b[0m\u001b[1;32m      4\u001b[0m \u001b[0mdata_file\u001b[0m \u001b[0;34m=\u001b[0m \u001b[0mdata_file\u001b[0m\u001b[0;34m.\u001b[0m\u001b[0mrename\u001b[0m\u001b[0;34m(\u001b[0m\u001b[0mcolumns\u001b[0m\u001b[0;34m=\u001b[0m\u001b[0;34m{\u001b[0m\u001b[0;34m'math score'\u001b[0m\u001b[0;34m:\u001b[0m\u001b[0;34m'math_score'\u001b[0m\u001b[0;34m}\u001b[0m\u001b[0;34m)\u001b[0m\u001b[0;34m\u001b[0m\u001b[0;34m\u001b[0m\u001b[0m\n\u001b[1;32m      5\u001b[0m \u001b[0mlch\u001b[0m \u001b[0;34m=\u001b[0m \u001b[0mdata_file\u001b[0m\u001b[0;34m[\u001b[0m\u001b[0mdata_file\u001b[0m\u001b[0;34m[\u001b[0m\u001b[0;34m'lunch'\u001b[0m\u001b[0;34m]\u001b[0m\u001b[0;34m==\u001b[0m\u001b[0;34m'standard'\u001b[0m\u001b[0;34m]\u001b[0m\u001b[0;34m.\u001b[0m\u001b[0mmath_score\u001b[0m\u001b[0;34m.\u001b[0m\u001b[0mmean\u001b[0m\u001b[0;34m(\u001b[0m\u001b[0;34m)\u001b[0m\u001b[0;34m\u001b[0m\u001b[0;34m\u001b[0m\u001b[0m\n",
            "\u001b[0;32m/usr/local/lib/python3.8/dist-packages/pandas/util/_decorators.py\u001b[0m in \u001b[0;36mwrapper\u001b[0;34m(*args, **kwargs)\u001b[0m\n\u001b[1;32m    309\u001b[0m                     \u001b[0mstacklevel\u001b[0m\u001b[0;34m=\u001b[0m\u001b[0mstacklevel\u001b[0m\u001b[0;34m,\u001b[0m\u001b[0;34m\u001b[0m\u001b[0;34m\u001b[0m\u001b[0m\n\u001b[1;32m    310\u001b[0m                 )\n\u001b[0;32m--> 311\u001b[0;31m             \u001b[0;32mreturn\u001b[0m \u001b[0mfunc\u001b[0m\u001b[0;34m(\u001b[0m\u001b[0;34m*\u001b[0m\u001b[0margs\u001b[0m\u001b[0;34m,\u001b[0m \u001b[0;34m**\u001b[0m\u001b[0mkwargs\u001b[0m\u001b[0;34m)\u001b[0m\u001b[0;34m\u001b[0m\u001b[0;34m\u001b[0m\u001b[0m\n\u001b[0m\u001b[1;32m    312\u001b[0m \u001b[0;34m\u001b[0m\u001b[0m\n\u001b[1;32m    313\u001b[0m         \u001b[0;32mreturn\u001b[0m \u001b[0mwrapper\u001b[0m\u001b[0;34m\u001b[0m\u001b[0;34m\u001b[0m\u001b[0m\n",
            "\u001b[0;32m/usr/local/lib/python3.8/dist-packages/pandas/io/parsers/readers.py\u001b[0m in \u001b[0;36mread_csv\u001b[0;34m(filepath_or_buffer, sep, delimiter, header, names, index_col, usecols, squeeze, prefix, mangle_dupe_cols, dtype, engine, converters, true_values, false_values, skipinitialspace, skiprows, skipfooter, nrows, na_values, keep_default_na, na_filter, verbose, skip_blank_lines, parse_dates, infer_datetime_format, keep_date_col, date_parser, dayfirst, cache_dates, iterator, chunksize, compression, thousands, decimal, lineterminator, quotechar, quoting, doublequote, escapechar, comment, encoding, encoding_errors, dialect, error_bad_lines, warn_bad_lines, on_bad_lines, delim_whitespace, low_memory, memory_map, float_precision, storage_options)\u001b[0m\n\u001b[1;32m    584\u001b[0m     \u001b[0mkwds\u001b[0m\u001b[0;34m.\u001b[0m\u001b[0mupdate\u001b[0m\u001b[0;34m(\u001b[0m\u001b[0mkwds_defaults\u001b[0m\u001b[0;34m)\u001b[0m\u001b[0;34m\u001b[0m\u001b[0;34m\u001b[0m\u001b[0m\n\u001b[1;32m    585\u001b[0m \u001b[0;34m\u001b[0m\u001b[0m\n\u001b[0;32m--> 586\u001b[0;31m     \u001b[0;32mreturn\u001b[0m \u001b[0m_read\u001b[0m\u001b[0;34m(\u001b[0m\u001b[0mfilepath_or_buffer\u001b[0m\u001b[0;34m,\u001b[0m \u001b[0mkwds\u001b[0m\u001b[0;34m)\u001b[0m\u001b[0;34m\u001b[0m\u001b[0;34m\u001b[0m\u001b[0m\n\u001b[0m\u001b[1;32m    587\u001b[0m \u001b[0;34m\u001b[0m\u001b[0m\n\u001b[1;32m    588\u001b[0m \u001b[0;34m\u001b[0m\u001b[0m\n",
            "\u001b[0;32m/usr/local/lib/python3.8/dist-packages/pandas/io/parsers/readers.py\u001b[0m in \u001b[0;36m_read\u001b[0;34m(filepath_or_buffer, kwds)\u001b[0m\n\u001b[1;32m    480\u001b[0m \u001b[0;34m\u001b[0m\u001b[0m\n\u001b[1;32m    481\u001b[0m     \u001b[0;31m# Create the parser.\u001b[0m\u001b[0;34m\u001b[0m\u001b[0;34m\u001b[0m\u001b[0;34m\u001b[0m\u001b[0m\n\u001b[0;32m--> 482\u001b[0;31m     \u001b[0mparser\u001b[0m \u001b[0;34m=\u001b[0m \u001b[0mTextFileReader\u001b[0m\u001b[0;34m(\u001b[0m\u001b[0mfilepath_or_buffer\u001b[0m\u001b[0;34m,\u001b[0m \u001b[0;34m**\u001b[0m\u001b[0mkwds\u001b[0m\u001b[0;34m)\u001b[0m\u001b[0;34m\u001b[0m\u001b[0;34m\u001b[0m\u001b[0m\n\u001b[0m\u001b[1;32m    483\u001b[0m \u001b[0;34m\u001b[0m\u001b[0m\n\u001b[1;32m    484\u001b[0m     \u001b[0;32mif\u001b[0m \u001b[0mchunksize\u001b[0m \u001b[0;32mor\u001b[0m \u001b[0miterator\u001b[0m\u001b[0;34m:\u001b[0m\u001b[0;34m\u001b[0m\u001b[0;34m\u001b[0m\u001b[0m\n",
            "\u001b[0;32m/usr/local/lib/python3.8/dist-packages/pandas/io/parsers/readers.py\u001b[0m in \u001b[0;36m__init__\u001b[0;34m(self, f, engine, **kwds)\u001b[0m\n\u001b[1;32m    809\u001b[0m             \u001b[0mself\u001b[0m\u001b[0;34m.\u001b[0m\u001b[0moptions\u001b[0m\u001b[0;34m[\u001b[0m\u001b[0;34m\"has_index_names\"\u001b[0m\u001b[0;34m]\u001b[0m \u001b[0;34m=\u001b[0m \u001b[0mkwds\u001b[0m\u001b[0;34m[\u001b[0m\u001b[0;34m\"has_index_names\"\u001b[0m\u001b[0;34m]\u001b[0m\u001b[0;34m\u001b[0m\u001b[0;34m\u001b[0m\u001b[0m\n\u001b[1;32m    810\u001b[0m \u001b[0;34m\u001b[0m\u001b[0m\n\u001b[0;32m--> 811\u001b[0;31m         \u001b[0mself\u001b[0m\u001b[0;34m.\u001b[0m\u001b[0m_engine\u001b[0m \u001b[0;34m=\u001b[0m \u001b[0mself\u001b[0m\u001b[0;34m.\u001b[0m\u001b[0m_make_engine\u001b[0m\u001b[0;34m(\u001b[0m\u001b[0mself\u001b[0m\u001b[0;34m.\u001b[0m\u001b[0mengine\u001b[0m\u001b[0;34m)\u001b[0m\u001b[0;34m\u001b[0m\u001b[0;34m\u001b[0m\u001b[0m\n\u001b[0m\u001b[1;32m    812\u001b[0m \u001b[0;34m\u001b[0m\u001b[0m\n\u001b[1;32m    813\u001b[0m     \u001b[0;32mdef\u001b[0m \u001b[0mclose\u001b[0m\u001b[0;34m(\u001b[0m\u001b[0mself\u001b[0m\u001b[0;34m)\u001b[0m\u001b[0;34m:\u001b[0m\u001b[0;34m\u001b[0m\u001b[0;34m\u001b[0m\u001b[0m\n",
            "\u001b[0;32m/usr/local/lib/python3.8/dist-packages/pandas/io/parsers/readers.py\u001b[0m in \u001b[0;36m_make_engine\u001b[0;34m(self, engine)\u001b[0m\n\u001b[1;32m   1038\u001b[0m             )\n\u001b[1;32m   1039\u001b[0m         \u001b[0;31m# error: Too many arguments for \"ParserBase\"\u001b[0m\u001b[0;34m\u001b[0m\u001b[0;34m\u001b[0m\u001b[0;34m\u001b[0m\u001b[0m\n\u001b[0;32m-> 1040\u001b[0;31m         \u001b[0;32mreturn\u001b[0m \u001b[0mmapping\u001b[0m\u001b[0;34m[\u001b[0m\u001b[0mengine\u001b[0m\u001b[0;34m]\u001b[0m\u001b[0;34m(\u001b[0m\u001b[0mself\u001b[0m\u001b[0;34m.\u001b[0m\u001b[0mf\u001b[0m\u001b[0;34m,\u001b[0m \u001b[0;34m**\u001b[0m\u001b[0mself\u001b[0m\u001b[0;34m.\u001b[0m\u001b[0moptions\u001b[0m\u001b[0;34m)\u001b[0m  \u001b[0;31m# type: ignore[call-arg]\u001b[0m\u001b[0;34m\u001b[0m\u001b[0;34m\u001b[0m\u001b[0m\n\u001b[0m\u001b[1;32m   1041\u001b[0m \u001b[0;34m\u001b[0m\u001b[0m\n\u001b[1;32m   1042\u001b[0m     \u001b[0;32mdef\u001b[0m \u001b[0m_failover_to_python\u001b[0m\u001b[0;34m(\u001b[0m\u001b[0mself\u001b[0m\u001b[0;34m)\u001b[0m\u001b[0;34m:\u001b[0m\u001b[0;34m\u001b[0m\u001b[0;34m\u001b[0m\u001b[0m\n",
            "\u001b[0;32m/usr/local/lib/python3.8/dist-packages/pandas/io/parsers/c_parser_wrapper.py\u001b[0m in \u001b[0;36m__init__\u001b[0;34m(self, src, **kwds)\u001b[0m\n\u001b[1;32m     49\u001b[0m \u001b[0;34m\u001b[0m\u001b[0m\n\u001b[1;32m     50\u001b[0m         \u001b[0;31m# open handles\u001b[0m\u001b[0;34m\u001b[0m\u001b[0;34m\u001b[0m\u001b[0;34m\u001b[0m\u001b[0m\n\u001b[0;32m---> 51\u001b[0;31m         \u001b[0mself\u001b[0m\u001b[0;34m.\u001b[0m\u001b[0m_open_handles\u001b[0m\u001b[0;34m(\u001b[0m\u001b[0msrc\u001b[0m\u001b[0;34m,\u001b[0m \u001b[0mkwds\u001b[0m\u001b[0;34m)\u001b[0m\u001b[0;34m\u001b[0m\u001b[0;34m\u001b[0m\u001b[0m\n\u001b[0m\u001b[1;32m     52\u001b[0m         \u001b[0;32massert\u001b[0m \u001b[0mself\u001b[0m\u001b[0;34m.\u001b[0m\u001b[0mhandles\u001b[0m \u001b[0;32mis\u001b[0m \u001b[0;32mnot\u001b[0m \u001b[0;32mNone\u001b[0m\u001b[0;34m\u001b[0m\u001b[0;34m\u001b[0m\u001b[0m\n\u001b[1;32m     53\u001b[0m \u001b[0;34m\u001b[0m\u001b[0m\n",
            "\u001b[0;32m/usr/local/lib/python3.8/dist-packages/pandas/io/parsers/base_parser.py\u001b[0m in \u001b[0;36m_open_handles\u001b[0;34m(self, src, kwds)\u001b[0m\n\u001b[1;32m    220\u001b[0m         \u001b[0mLet\u001b[0m \u001b[0mthe\u001b[0m \u001b[0mreaders\u001b[0m \u001b[0mopen\u001b[0m \u001b[0mIOHandles\u001b[0m \u001b[0mafter\u001b[0m \u001b[0mthey\u001b[0m \u001b[0mare\u001b[0m \u001b[0mdone\u001b[0m \u001b[0;32mwith\u001b[0m \u001b[0mtheir\u001b[0m \u001b[0mpotential\u001b[0m \u001b[0mraises\u001b[0m\u001b[0;34m.\u001b[0m\u001b[0;34m\u001b[0m\u001b[0;34m\u001b[0m\u001b[0m\n\u001b[1;32m    221\u001b[0m         \"\"\"\n\u001b[0;32m--> 222\u001b[0;31m         self.handles = get_handle(\n\u001b[0m\u001b[1;32m    223\u001b[0m             \u001b[0msrc\u001b[0m\u001b[0;34m,\u001b[0m\u001b[0;34m\u001b[0m\u001b[0;34m\u001b[0m\u001b[0m\n\u001b[1;32m    224\u001b[0m             \u001b[0;34m\"r\"\u001b[0m\u001b[0;34m,\u001b[0m\u001b[0;34m\u001b[0m\u001b[0;34m\u001b[0m\u001b[0m\n",
            "\u001b[0;32m/usr/local/lib/python3.8/dist-packages/pandas/io/common.py\u001b[0m in \u001b[0;36mget_handle\u001b[0;34m(path_or_buf, mode, encoding, compression, memory_map, is_text, errors, storage_options)\u001b[0m\n\u001b[1;32m    700\u001b[0m         \u001b[0;32mif\u001b[0m \u001b[0mioargs\u001b[0m\u001b[0;34m.\u001b[0m\u001b[0mencoding\u001b[0m \u001b[0;32mand\u001b[0m \u001b[0;34m\"b\"\u001b[0m \u001b[0;32mnot\u001b[0m \u001b[0;32min\u001b[0m \u001b[0mioargs\u001b[0m\u001b[0;34m.\u001b[0m\u001b[0mmode\u001b[0m\u001b[0;34m:\u001b[0m\u001b[0;34m\u001b[0m\u001b[0;34m\u001b[0m\u001b[0m\n\u001b[1;32m    701\u001b[0m             \u001b[0;31m# Encoding\u001b[0m\u001b[0;34m\u001b[0m\u001b[0;34m\u001b[0m\u001b[0;34m\u001b[0m\u001b[0m\n\u001b[0;32m--> 702\u001b[0;31m             handle = open(\n\u001b[0m\u001b[1;32m    703\u001b[0m                 \u001b[0mhandle\u001b[0m\u001b[0;34m,\u001b[0m\u001b[0;34m\u001b[0m\u001b[0;34m\u001b[0m\u001b[0m\n\u001b[1;32m    704\u001b[0m                 \u001b[0mioargs\u001b[0m\u001b[0;34m.\u001b[0m\u001b[0mmode\u001b[0m\u001b[0;34m,\u001b[0m\u001b[0;34m\u001b[0m\u001b[0;34m\u001b[0m\u001b[0m\n",
            "\u001b[0;31mFileNotFoundError\u001b[0m: [Errno 2] No such file or directory: '/content/sample_data/StudentsPerformance (1).csv'"
          ]
        }
      ]
    },
    {
      "cell_type": "markdown",
      "source": [
        "# matplot lib"
      ],
      "metadata": {
        "id": "e3CtyA5_6zW1"
      }
    },
    {
      "cell_type": "code",
      "source": [
        "import pandas   as pd\n",
        "import numpy as np\n",
        "%matplotlib inline\n",
        "import matplotlib.pyplot as plt\n",
        "import seaborn as sns\n",
        "\n",
        "data_file = pd.read_csv('/content/sample_data/StudentsPerformance (3).csv')\n",
        "\n",
        "data_file = data_file.rename(columns={'math score':'math_score'})\n",
        "data_file = data_file.rename(columns={'reading score':'reading_score'})\n",
        "data_file = data_file.rename(columns={'writing score':'writing_score'})\n",
        "\n",
        "\n",
        "data_file['test']=data_file.math_score + data_file.reading_score + data_file.writing_score\n",
        "\n",
        "data_file.test.hist()"
      ],
      "metadata": {
        "colab": {
          "base_uri": "https://localhost:8080/",
          "height": 282
        },
        "id": "NSEPuKiQcbYC",
        "outputId": "69e32ecc-bad2-4f40-a3b4-174d8eedab26"
      },
      "execution_count": null,
      "outputs": [
        {
          "output_type": "execute_result",
          "data": {
            "text/plain": [
              "<AxesSubplot:>"
            ]
          },
          "metadata": {},
          "execution_count": 2
        },
        {
          "output_type": "display_data",
          "data": {
            "text/plain": [
              "<Figure size 432x288 with 1 Axes>"
            ],
            "image/png": "[encoded data removed]"
          },
          "metadata": {
            "needs_background": "light"
          }
        }
      ]
    },
    {
      "cell_type": "code",
      "source": [
        "import pandas   as pd\n",
        "import numpy as np\n",
        "%matplotlib inline\n",
        "import matplotlib.pyplot as plt\n",
        "import seaborn as sns\n",
        "\n",
        "data_file = pd.read_csv('/content/sample_data/StudentsPerformance (3).csv')\n",
        "\n",
        "data_file = data_file.rename(columns={'math score':'math_score'})\n",
        "data_file = data_file.rename(columns={'reading score':'reading_score'})\n",
        "data_file = data_file.rename(columns={'writing score':'writing_score'})\n",
        "\n",
        "data_file.plot.scatter(x='reading_score', y='math_score')"
      ],
      "metadata": {
        "colab": {
          "base_uri": "https://localhost:8080/",
          "height": 297
        },
        "id": "z2uBV4Mujh2t",
        "outputId": "c235ae8c-cfcc-4d5f-c7f3-af124fd9f05f"
      },
      "execution_count": null,
      "outputs": [
        {
          "output_type": "execute_result",
          "data": {
            "text/plain": [
              "<AxesSubplot:xlabel='reading_score', ylabel='math_score'>"
            ]
          },
          "metadata": {},
          "execution_count": 3
        },
        {
          "output_type": "display_data",
          "data": {
            "text/plain": [
              "<Figure size 432x288 with 1 Axes>"
            ],
            "image/png": "[encoded data removed]"
          },
          "metadata": {
            "needs_background": "light"
          }
        }
      ]
    },
    {
      "cell_type": "code",
      "source": [
        "import pandas   as pd\n",
        "import numpy as np\n",
        "%matplotlib inline\n",
        "import matplotlib.pyplot as plt\n",
        "import seaborn as sns\n",
        "\n",
        "data_file = pd.read_csv('/content/sample_data/StudentsPerformance (3).csv')\n",
        "\n",
        "data_file = data_file.rename(columns={'math score':'math_score'})\n",
        "data_file = data_file.rename(columns={'reading score':'reading_score'})\n",
        "data_file = data_file.rename(columns={'writing score':'writing_score'})\n",
        "\n",
        "sns.lmplot(x='reading_score', y='math_score', hue='lunch', data = data_file, fit_reg = False)"
      ],
      "metadata": {
        "colab": {
          "base_uri": "https://localhost:8080/",
          "height": 386
        },
        "id": "09mSolZmlMHi",
        "outputId": "d7565d8b-bde2-4de7-8b00-fcf3299be4c1"
      },
      "execution_count": null,
      "outputs": [
        {
          "output_type": "execute_result",
          "data": {
            "text/plain": [
              "<seaborn.axisgrid.FacetGrid at 0x7f5964b84400>"
            ]
          },
          "metadata": {},
          "execution_count": 6
        },
        {
          "output_type": "display_data",
          "data": {
            "text/plain": [
              "<Figure size 459.875x360 with 1 Axes>"
            ],
            "image/png": "[encoded data removed]"
          },
          "metadata": {
            "needs_background": "light"
          }
        }
      ]
    },
    {
      "cell_type": "code",
      "source": [
        "import pandas   as pd\n",
        "import numpy as np\n",
        "%matplotlib inline\n",
        "import matplotlib.pyplot as plt\n",
        "import seaborn as sns\n",
        "\n",
        "data_file = pd.read_csv('/content/sample_data/StudentsPerformance (3).csv')\n",
        "\n",
        "data_file = data_file.rename(columns={'math score':'math_score'})\n",
        "data_file = data_file.rename(columns={'reading score':'reading_score'})\n",
        "data_file = data_file.rename(columns={'writing score':'writing_score'})\n",
        "\n",
        "sns.lmplot(x='reading_score', y='math_score', hue='parental level of education', data = data_file, fit_reg = False)"
      ],
      "metadata": {
        "colab": {
          "base_uri": "https://localhost:8080/",
          "height": 386
        },
        "id": "r3nHyj1pr7sA",
        "outputId": "adbe3f16-ae37-4ad7-c7aa-99e0adbcec43"
      },
      "execution_count": null,
      "outputs": [
        {
          "output_type": "execute_result",
          "data": {
            "text/plain": [
              "<seaborn.axisgrid.FacetGrid at 0x7f59647d8190>"
            ]
          },
          "metadata": {},
          "execution_count": 7
        },
        {
          "output_type": "display_data",
          "data": {
            "text/plain": [
              "<Figure size 502.125x360 with 1 Axes>"
            ],
            "image/png": "[encoded data removed]"
          },
          "metadata": {
            "needs_background": "light"
          }
        }
      ]
    },
    {
      "cell_type": "code",
      "source": [
        "import pandas   as pd\n",
        "import numpy as np\n",
        "%matplotlib inline\n",
        "import matplotlib.pyplot as plt\n",
        "import seaborn as sns\n",
        "\n",
        "data_file = pd.read_csv('/content/sample_data/StudentsPerformance (3).csv')\n",
        "\n",
        "data_file = data_file.rename(columns={'math score':'math_score'})\n",
        "data_file = data_file.rename(columns={'reading score':'reading_score'})\n",
        "data_file = data_file.rename(columns={'writing score':'writing_score'})\n",
        "\n",
        "\n",
        "data_file['test']=data_file.math_score + data_file.reading_score + data_file.writing_score\n",
        "\n",
        "sns.lmplot(x='reading_score', y='test',hue='race/ethnicity', data = data_file, fit_reg = False)"
      ],
      "metadata": {
        "colab": {
          "base_uri": "https://localhost:8080/",
          "height": 386
        },
        "id": "W2WpF55Esx4K",
        "outputId": "42c27105-f1ca-4802-8cd5-24e690ab4256"
      },
      "execution_count": null,
      "outputs": [
        {
          "output_type": "execute_result",
          "data": {
            "text/plain": [
              "<seaborn.axisgrid.FacetGrid at 0x7f596470df40>"
            ]
          },
          "metadata": {},
          "execution_count": 9
        },
        {
          "output_type": "display_data",
          "data": {
            "text/plain": [
              "<Figure size 437x360 with 1 Axes>"
            ],
            "image/png": "[encoded data removed]"
          },
          "metadata": {
            "needs_background": "light"
          }
        }
      ]
    },
    {
      "cell_type": "code",
      "source": [
        "import pandas   as pd\n",
        "import numpy as np\n",
        "%matplotlib inline\n",
        "import matplotlib.pyplot as plt\n",
        "import seaborn as sns\n",
        "\n",
        "data_file = pd.read_csv('/content/sample_data/StudentsPerformance (3).csv')\n",
        "\n",
        "data_file = data_file.rename(columns={'math score':'math_score'})\n",
        "data_file = data_file.rename(columns={'reading score':'reading_score'})\n",
        "data_file = data_file.rename(columns={'writing score':'writing_score'})\n",
        "\n",
        "\n",
        "\n",
        "\n",
        "sns.relplot(x='reading_score', y='writing_score', hue='parental level of education', col='lunch', data = data_file)"
      ],
      "metadata": {
        "colab": {
          "base_uri": "https://localhost:8080/",
          "height": 333
        },
        "id": "buZaVfjntlOM",
        "outputId": "5c1fa6ed-b689-4dc3-ab98-0ddcb0dfcfad"
      },
      "execution_count": null,
      "outputs": [
        {
          "output_type": "execute_result",
          "data": {
            "text/plain": [
              "<seaborn.axisgrid.FacetGrid at 0x7f5964ea1d30>"
            ]
          },
          "metadata": {},
          "execution_count": 12
        },
        {
          "output_type": "display_data",
          "data": {
            "text/plain": [
              "<Figure size 862.125x360 with 2 Axes>"
            ],
            "image/png": "[encoded data removed]"
          },
          "metadata": {
            "needs_background": "light"
          }
        }
      ]
    },
    {
      "cell_type": "markdown",
      "source": [
        " # SKLEARN"
      ],
      "metadata": {
        "id": "BDgfAUndpngM"
      }
    },
    {
      "cell_type": "code",
      "source": [
        "import sklearn as sk\n",
        "import pandas as pd\n",
        "import numpy as np\n",
        "\n",
        "data_file = pd.read_csv('/content/sample_data/autos (1).csv')\n",
        "\n",
        "print(len(data_file.axes[0]))\n",
        "print(len(data_file.axes[1]))\n",
        "\n",
        "data_filt = data_file.loc[(data_file['price']<1000000) & (data_file['price']>0)]\n"
      ],
      "metadata": {
        "colab": {
          "base_uri": "https://localhost:8080/",
          "height": 870
        },
        "id": "RlkMRvfmjN2e",
        "outputId": "8de35730-d95a-4435-886b-c93f4f6483c6"
      },
      "execution_count": null,
      "outputs": [
        {
          "output_type": "stream",
          "name": "stdout",
          "text": [
            "371528\n",
            "20\n"
          ]
        },
        {
          "output_type": "execute_result",
          "data": {
            "text/plain": [
              "                dateCrawled                                          name  \\\n",
              "0       2016-03-24 11:52:17                                    Golf_3_1.6   \n",
              "1       2016-03-24 10:58:45                          A5_Sportback_2.7_Tdi   \n",
              "2       2016-03-14 12:52:21                Jeep_Grand_Cherokee_\"Overland\"   \n",
              "3       2016-03-17 16:54:04                            GOLF_4_1_4__3TÜRER   \n",
              "4       2016-03-31 17:25:20                Skoda_Fabia_1.4_TDI_PD_Classic   \n",
              "...                     ...                                           ...   \n",
              "371523  2016-03-14 17:48:27                    Suche_t4___vito_ab_6_sitze   \n",
              "371524  2016-03-05 19:56:21         Smart_smart_leistungssteigerung_100ps   \n",
              "371525  2016-03-19 18:57:12            Volkswagen_Multivan_T4_TDI_7DC_UY2   \n",
              "371526  2016-03-20 19:41:08                        VW_Golf_Kombi_1_9l_TDI   \n",
              "371527  2016-03-07 19:39:19  BMW_M135i_vollausgestattet_NP_52.720____Euro   \n",
              "\n",
              "        seller offerType  price   abtest vehicleType  yearOfRegistration  \\\n",
              "0       privat   Angebot    480     test         NaN                1993   \n",
              "1       privat   Angebot  18300     test       coupe                2011   \n",
              "2       privat   Angebot   9800     test         suv                2004   \n",
              "3       privat   Angebot   1500     test  kleinwagen                2001   \n",
              "4       privat   Angebot   3600     test  kleinwagen                2008   \n",
              "...        ...       ...    ...      ...         ...                 ...   \n",
              "371523  privat   Angebot   2200     test         NaN                2005   \n",
              "371524  privat   Angebot   1199     test      cabrio                2000   \n",
              "371525  privat   Angebot   9200     test         bus                1996   \n",
              "371526  privat   Angebot   3400     test       kombi                2002   \n",
              "371527  privat   Angebot  28990  control   limousine                2013   \n",
              "\n",
              "          gearbox  powerPS        model  kilometer  monthOfRegistration  \\\n",
              "0         manuell        0         golf     150000                    0   \n",
              "1         manuell      190          NaN     125000                    5   \n",
              "2       automatik      163        grand     125000                    8   \n",
              "3         manuell       75         golf     150000                    6   \n",
              "4         manuell       69        fabia      90000                    7   \n",
              "...           ...      ...          ...        ...                  ...   \n",
              "371523        NaN        0          NaN      20000                    1   \n",
              "371524  automatik      101       fortwo     125000                    3   \n",
              "371525    manuell      102  transporter     150000                    3   \n",
              "371526    manuell      100         golf     150000                    6   \n",
              "371527    manuell      320      m_reihe      50000                    8   \n",
              "\n",
              "       fuelType           brand notRepairedDamage          dateCreated  \\\n",
              "0        benzin      volkswagen               NaN  2016-03-24 00:00:00   \n",
              "1        diesel            audi                ja  2016-03-24 00:00:00   \n",
              "2        diesel            jeep               NaN  2016-03-14 00:00:00   \n",
              "3        benzin      volkswagen              nein  2016-03-17 00:00:00   \n",
              "4        diesel           skoda              nein  2016-03-31 00:00:00   \n",
              "...         ...             ...               ...                  ...   \n",
              "371523      NaN  sonstige_autos               NaN  2016-03-14 00:00:00   \n",
              "371524   benzin           smart              nein  2016-03-05 00:00:00   \n",
              "371525   diesel      volkswagen              nein  2016-03-19 00:00:00   \n",
              "371526   diesel      volkswagen               NaN  2016-03-20 00:00:00   \n",
              "371527   benzin             bmw              nein  2016-03-07 00:00:00   \n",
              "\n",
              "        nrOfPictures  postalCode             lastSeen  \n",
              "0                  0       70435  2016-04-07 03:16:57  \n",
              "1                  0       66954  2016-04-07 01:46:50  \n",
              "2                  0       90480  2016-04-05 12:47:46  \n",
              "3                  0       91074  2016-03-17 17:40:17  \n",
              "4                  0       60437  2016-04-06 10:17:21  \n",
              "...              ...         ...                  ...  \n",
              "371523             0       39576  2016-04-06 00:46:52  \n",
              "371524             0       26135  2016-03-11 18:17:12  \n",
              "371525             0       87439  2016-04-07 07:15:26  \n",
              "371526             0       40764  2016-03-24 12:45:21  \n",
              "371527             0       73326  2016-03-22 03:17:10  \n",
              "\n",
              "[360680 rows x 20 columns]"
            ],
            "text/html": [
              "\n",
              "  <div id=\"df-18bcfdd9-6519-44f3-ac6b-517f3c5e662c\">\n",
              "    <div class=\"colab-df-container\">\n",
              "      <div>\n",
              "<style scoped>\n",
              "    .dataframe tbody tr th:only-of-type {\n",
              "        vertical-align: middle;\n",
              "    }\n",
              "\n",
              "    .dataframe tbody tr th {\n",
              "        vertical-align: top;\n",
              "    }\n",
              "\n",
              "    .dataframe thead th {\n",
              "        text-align: right;\n",
              "    }\n",
              "</style>\n",
              "<table border=\"1\" class=\"dataframe\">\n",
              "  <thead>\n",
              "    <tr style=\"text-align: right;\">\n",
              "      <th></th>\n",
              "      <th>dateCrawled</th>\n",
              "      <th>name</th>\n",
              "      <th>seller</th>\n",
              "      <th>offerType</th>\n",
              "      <th>price</th>\n",
              "      <th>abtest</th>\n",
              "      <th>vehicleType</th>\n",
              "      <th>yearOfRegistration</th>\n",
              "      <th>gearbox</th>\n",
              "      <th>powerPS</th>\n",
              "      <th>model</th>\n",
              "      <th>kilometer</th>\n",
              "      <th>monthOfRegistration</th>\n",
              "      <th>fuelType</th>\n",
              "      <th>brand</th>\n",
              "      <th>notRepairedDamage</th>\n",
              "      <th>dateCreated</th>\n",
              "      <th>nrOfPictures</th>\n",
              "      <th>postalCode</th>\n",
              "      <th>lastSeen</th>\n",
              "    </tr>\n",
              "  </thead>\n",
              "  <tbody>\n",
              "    <tr>\n",
              "      <th>0</th>\n",
              "      <td>2016-03-24 11:52:17</td>\n",
              "      <td>Golf_3_1.6</td>\n",
              "      <td>privat</td>\n",
              "      <td>Angebot</td>\n",
              "      <td>480</td>\n",
              "      <td>test</td>\n",
              "      <td>NaN</td>\n",
              "      <td>1993</td>\n",
              "      <td>manuell</td>\n",
              "      <td>0</td>\n",
              "      <td>golf</td>\n",
              "      <td>150000</td>\n",
              "      <td>0</td>\n",
              "      <td>benzin</td>\n",
              "      <td>volkswagen</td>\n",
              "      <td>NaN</td>\n",
              "      <td>2016-03-24 00:00:00</td>\n",
              "      <td>0</td>\n",
              "      <td>70435</td>\n",
              "      <td>2016-04-07 03:16:57</td>\n",
              "    </tr>\n",
              "    <tr>\n",
              "      <th>1</th>\n",
              "      <td>2016-03-24 10:58:45</td>\n",
              "      <td>A5_Sportback_2.7_Tdi</td>\n",
              "      <td>privat</td>\n",
              "      <td>Angebot</td>\n",
              "      <td>18300</td>\n",
              "      <td>test</td>\n",
              "      <td>coupe</td>\n",
              "      <td>2011</td>\n",
              "      <td>manuell</td>\n",
              "      <td>190</td>\n",
              "      <td>NaN</td>\n",
              "      <td>125000</td>\n",
              "      <td>5</td>\n",
              "      <td>diesel</td>\n",
              "      <td>audi</td>\n",
              "      <td>ja</td>\n",
              "      <td>2016-03-24 00:00:00</td>\n",
              "      <td>0</td>\n",
              "      <td>66954</td>\n",
              "      <td>2016-04-07 01:46:50</td>\n",
              "    </tr>\n",
              "    <tr>\n",
              "      <th>2</th>\n",
              "      <td>2016-03-14 12:52:21</td>\n",
              "      <td>Jeep_Grand_Cherokee_\"Overland\"</td>\n",
              "      <td>privat</td>\n",
              "      <td>Angebot</td>\n",
              "      <td>9800</td>\n",
              "      <td>test</td>\n",
              "      <td>suv</td>\n",
              "      <td>2004</td>\n",
              "      <td>automatik</td>\n",
              "      <td>163</td>\n",
              "      <td>grand</td>\n",
              "      <td>125000</td>\n",
              "      <td>8</td>\n",
              "      <td>diesel</td>\n",
              "      <td>jeep</td>\n",
              "      <td>NaN</td>\n",
              "      <td>2016-03-14 00:00:00</td>\n",
              "      <td>0</td>\n",
              "      <td>90480</td>\n",
              "      <td>2016-04-05 12:47:46</td>\n",
              "    </tr>\n",
              "    <tr>\n",
              "      <th>3</th>\n",
              "      <td>2016-03-17 16:54:04</td>\n",
              "      <td>GOLF_4_1_4__3TÜRER</td>\n",
              "      <td>privat</td>\n",
              "      <td>Angebot</td>\n",
              "      <td>1500</td>\n",
              "      <td>test</td>\n",
              "      <td>kleinwagen</td>\n",
              "      <td>2001</td>\n",
              "      <td>manuell</td>\n",
              "      <td>75</td>\n",
              "      <td>golf</td>\n",
              "      <td>150000</td>\n",
              "      <td>6</td>\n",
              "      <td>benzin</td>\n",
              "      <td>volkswagen</td>\n",
              "      <td>nein</td>\n",
              "      <td>2016-03-17 00:00:00</td>\n",
              "      <td>0</td>\n",
              "      <td>91074</td>\n",
              "      <td>2016-03-17 17:40:17</td>\n",
              "    </tr>\n",
              "    <tr>\n",
              "      <th>4</th>\n",
              "      <td>2016-03-31 17:25:20</td>\n",
              "      <td>Skoda_Fabia_1.4_TDI_PD_Classic</td>\n",
              "      <td>privat</td>\n",
              "      <td>Angebot</td>\n",
              "      <td>3600</td>\n",
              "      <td>test</td>\n",
              "      <td>kleinwagen</td>\n",
              "      <td>2008</td>\n",
              "      <td>manuell</td>\n",
              "      <td>69</td>\n",
              "      <td>fabia</td>\n",
              "      <td>90000</td>\n",
              "      <td>7</td>\n",
              "      <td>diesel</td>\n",
              "      <td>skoda</td>\n",
              "      <td>nein</td>\n",
              "      <td>2016-03-31 00:00:00</td>\n",
              "      <td>0</td>\n",
              "      <td>60437</td>\n",
              "      <td>2016-04-06 10:17:21</td>\n",
              "    </tr>\n",
              "    <tr>\n",
              "      <th>...</th>\n",
              "      <td>...</td>\n",
              "      <td>...</td>\n",
              "      <td>...</td>\n",
              "      <td>...</td>\n",
              "      <td>...</td>\n",
              "      <td>...</td>\n",
              "      <td>...</td>\n",
              "      <td>...</td>\n",
              "      <td>...</td>\n",
              "      <td>...</td>\n",
              "      <td>...</td>\n",
              "      <td>...</td>\n",
              "      <td>...</td>\n",
              "      <td>...</td>\n",
              "      <td>...</td>\n",
              "      <td>...</td>\n",
              "      <td>...</td>\n",
              "      <td>...</td>\n",
              "      <td>...</td>\n",
              "      <td>...</td>\n",
              "    </tr>\n",
              "    <tr>\n",
              "      <th>371523</th>\n",
              "      <td>2016-03-14 17:48:27</td>\n",
              "      <td>Suche_t4___vito_ab_6_sitze</td>\n",
              "      <td>privat</td>\n",
              "      <td>Angebot</td>\n",
              "      <td>2200</td>\n",
              "      <td>test</td>\n",
              "      <td>NaN</td>\n",
              "      <td>2005</td>\n",
              "      <td>NaN</td>\n",
              "      <td>0</td>\n",
              "      <td>NaN</td>\n",
              "      <td>20000</td>\n",
              "      <td>1</td>\n",
              "      <td>NaN</td>\n",
              "      <td>sonstige_autos</td>\n",
              "      <td>NaN</td>\n",
              "      <td>2016-03-14 00:00:00</td>\n",
              "      <td>0</td>\n",
              "      <td>39576</td>\n",
              "      <td>2016-04-06 00:46:52</td>\n",
              "    </tr>\n",
              "    <tr>\n",
              "      <th>371524</th>\n",
              "      <td>2016-03-05 19:56:21</td>\n",
              "      <td>Smart_smart_leistungssteigerung_100ps</td>\n",
              "      <td>privat</td>\n",
              "      <td>Angebot</td>\n",
              "      <td>1199</td>\n",
              "      <td>test</td>\n",
              "      <td>cabrio</td>\n",
              "      <td>2000</td>\n",
              "      <td>automatik</td>\n",
              "      <td>101</td>\n",
              "      <td>fortwo</td>\n",
              "      <td>125000</td>\n",
              "      <td>3</td>\n",
              "      <td>benzin</td>\n",
              "      <td>smart</td>\n",
              "      <td>nein</td>\n",
              "      <td>2016-03-05 00:00:00</td>\n",
              "      <td>0</td>\n",
              "      <td>26135</td>\n",
              "      <td>2016-03-11 18:17:12</td>\n",
              "    </tr>\n",
              "    <tr>\n",
              "      <th>371525</th>\n",
              "      <td>2016-03-19 18:57:12</td>\n",
              "      <td>Volkswagen_Multivan_T4_TDI_7DC_UY2</td>\n",
              "      <td>privat</td>\n",
              "      <td>Angebot</td>\n",
              "      <td>9200</td>\n",
              "      <td>test</td>\n",
              "      <td>bus</td>\n",
              "      <td>1996</td>\n",
              "      <td>manuell</td>\n",
              "      <td>102</td>\n",
              "      <td>transporter</td>\n",
              "      <td>150000</td>\n",
              "      <td>3</td>\n",
              "      <td>diesel</td>\n",
              "      <td>volkswagen</td>\n",
              "      <td>nein</td>\n",
              "      <td>2016-03-19 00:00:00</td>\n",
              "      <td>0</td>\n",
              "      <td>87439</td>\n",
              "      <td>2016-04-07 07:15:26</td>\n",
              "    </tr>\n",
              "    <tr>\n",
              "      <th>371526</th>\n",
              "      <td>2016-03-20 19:41:08</td>\n",
              "      <td>VW_Golf_Kombi_1_9l_TDI</td>\n",
              "      <td>privat</td>\n",
              "      <td>Angebot</td>\n",
              "      <td>3400</td>\n",
              "      <td>test</td>\n",
              "      <td>kombi</td>\n",
              "      <td>2002</td>\n",
              "      <td>manuell</td>\n",
              "      <td>100</td>\n",
              "      <td>golf</td>\n",
              "      <td>150000</td>\n",
              "      <td>6</td>\n",
              "      <td>diesel</td>\n",
              "      <td>volkswagen</td>\n",
              "      <td>NaN</td>\n",
              "      <td>2016-03-20 00:00:00</td>\n",
              "      <td>0</td>\n",
              "      <td>40764</td>\n",
              "      <td>2016-03-24 12:45:21</td>\n",
              "    </tr>\n",
              "    <tr>\n",
              "      <th>371527</th>\n",
              "      <td>2016-03-07 19:39:19</td>\n",
              "      <td>BMW_M135i_vollausgestattet_NP_52.720____Euro</td>\n",
              "      <td>privat</td>\n",
              "      <td>Angebot</td>\n",
              "      <td>28990</td>\n",
              "      <td>control</td>\n",
              "      <td>limousine</td>\n",
              "      <td>2013</td>\n",
              "      <td>manuell</td>\n",
              "      <td>320</td>\n",
              "      <td>m_reihe</td>\n",
              "      <td>50000</td>\n",
              "      <td>8</td>\n",
              "      <td>benzin</td>\n",
              "      <td>bmw</td>\n",
              "      <td>nein</td>\n",
              "      <td>2016-03-07 00:00:00</td>\n",
              "      <td>0</td>\n",
              "      <td>73326</td>\n",
              "      <td>2016-03-22 03:17:10</td>\n",
              "    </tr>\n",
              "  </tbody>\n",
              "</table>\n",
              "<p>360680 rows × 20 columns</p>\n",
              "</div>\n",
              "      <button class=\"colab-df-convert\" onclick=\"convertToInteractive('df-18bcfdd9-6519-44f3-ac6b-517f3c5e662c')\"\n",
              "              title=\"Convert this dataframe to an interactive table.\"\n",
              "              style=\"display:none;\">\n",
              "        \n",
              "  <svg xmlns=\"http://www.w3.org/2000/svg\" height=\"24px\"viewBox=\"0 0 24 24\"\n",
              "       width=\"24px\">\n",
              "    <path d=\"M0 0h24v24H0V0z\" fill=\"none\"/>\n",
              "    <path d=\"M18.56 5.44l.94 2.06.94-2.06 2.06-.94-2.06-.94-.94-2.06-.94 2.06-2.06.94zm-11 1L8.5 8.5l.94-2.06 2.06-.94-2.06-.94L8.5 2.5l-.94 2.06-2.06.94zm10 10l.94 2.06.94-2.06 2.06-.94-2.06-.94-.94-2.06-.94 2.06-2.06.94z\"/><path d=\"M17.41 7.96l-1.37-1.37c-.4-.4-.92-.59-1.43-.59-.52 0-1.04.2-1.43.59L10.3 9.45l-7.72 7.72c-.78.78-.78 2.05 0 2.83L4 21.41c.39.39.9.59 1.41.59.51 0 1.02-.2 1.41-.59l7.78-7.78 2.81-2.81c.8-.78.8-2.07 0-2.86zM5.41 20L4 18.59l7.72-7.72 1.47 1.35L5.41 20z\"/>\n",
              "  </svg>\n",
              "      </button>\n",
              "      \n",
              "  <style>\n",
              "    .colab-df-container {\n",
              "      display:flex;\n",
              "      flex-wrap:wrap;\n",
              "      gap: 12px;\n",
              "    }\n",
              "\n",
              "    .colab-df-convert {\n",
              "      background-color: #E8F0FE;\n",
              "      border: none;\n",
              "      border-radius: 50%;\n",
              "      cursor: pointer;\n",
              "      display: none;\n",
              "      fill: #1967D2;\n",
              "      height: 32px;\n",
              "      padding: 0 0 0 0;\n",
              "      width: 32px;\n",
              "    }\n",
              "\n",
              "    .colab-df-convert:hover {\n",
              "      background-color: #E2EBFA;\n",
              "      box-shadow: 0px 1px 2px rgba(60, 64, 67, 0.3), 0px 1px 3px 1px rgba(60, 64, 67, 0.15);\n",
              "      fill: #174EA6;\n",
              "    }\n",
              "\n",
              "    [theme=dark] .colab-df-convert {\n",
              "      background-color: #3B4455;\n",
              "      fill: #D2E3FC;\n",
              "    }\n",
              "\n",
              "    [theme=dark] .colab-df-convert:hover {\n",
              "      background-color: #434B5C;\n",
              "      box-shadow: 0px 1px 3px 1px rgba(0, 0, 0, 0.15);\n",
              "      filter: drop-shadow(0px 1px 2px rgba(0, 0, 0, 0.3));\n",
              "      fill: #FFFFFF;\n",
              "    }\n",
              "  </style>\n",
              "\n",
              "      <script>\n",
              "        const buttonEl =\n",
              "          document.querySelector('#df-18bcfdd9-6519-44f3-ac6b-517f3c5e662c button.colab-df-convert');\n",
              "        buttonEl.style.display =\n",
              "          google.colab.kernel.accessAllowed ? 'block' : 'none';\n",
              "\n",
              "        async function convertToInteractive(key) {\n",
              "          const element = document.querySelector('#df-18bcfdd9-6519-44f3-ac6b-517f3c5e662c');\n",
              "          const dataTable =\n",
              "            await google.colab.kernel.invokeFunction('convertToInteractive',\n",
              "                                                     [key], {});\n",
              "          if (!dataTable) return;\n",
              "\n",
              "          const docLinkHtml = 'Like what you see? Visit the ' +\n",
              "            '<a target=\"_blank\" href=https://colab.research.google.com/notebooks/data_table.ipynb>data table notebook</a>'\n",
              "            + ' to learn more about interactive tables.';\n",
              "          element.innerHTML = '';\n",
              "          dataTable['output_type'] = 'display_data';\n",
              "          await google.colab.output.renderOutput(dataTable, element);\n",
              "          const docLink = document.createElement('div');\n",
              "          docLink.innerHTML = docLinkHtml;\n",
              "          element.appendChild(docLink);\n",
              "        }\n",
              "      </script>\n",
              "    </div>\n",
              "  </div>\n",
              "  "
            ]
          },
          "metadata": {},
          "execution_count": 12
        }
      ]
    },
    {
      "cell_type": "code",
      "source": [
        "from sklearn.linear_model import LinearRegression\n",
        "import sklearn as sk\n",
        "import pandas as pd\n",
        "import numpy as np\n",
        "\n",
        "data_file = pd.read_csv('/content/sample_data/autos (1).csv')\n",
        "\n",
        "data_filt = data_file.loc[(data_file['price']<1000000) & (data_file['price']>0)]\n",
        "\n",
        "price = data_filt['price']\n",
        "year = data_filt['yearOfRegistration']\n",
        "\n",
        "x=np.array(price).reshape((-1,1))\n",
        "x\n",
        "y=np.array(year)\n",
        "y\n",
        "\n",
        "model = LinearRegression()\n",
        "model.fit(x,y)\n",
        "rsq = model.score(x,y)\n",
        "rsq"
      ],
      "metadata": {
        "colab": {
          "base_uri": "https://localhost:8080/"
        },
        "id": "wAnKNHql0FTZ",
        "outputId": "aa6b7c15-03ea-445f-b386-0c2b36722b6d"
      },
      "execution_count": null,
      "outputs": [
        {
          "output_type": "execute_result",
          "data": {
            "text/plain": [
              "0.0016194396094302288"
            ]
          },
          "metadata": {},
          "execution_count": 20
        }
      ]
    },
    {
      "cell_type": "code",
      "source": [
        "from sklearn.linear_model import LinearRegression\n",
        "import sklearn as sk\n",
        "import pandas as pd\n",
        "import numpy as np\n",
        "\n",
        "data_file = pd.read_csv('/content/sample_data/autos (1).csv')\n",
        "\n",
        "data_filt = data_file.loc[(data_file['price']<1000000) & (data_file['price']>0)]\n",
        "data_filt = data_filt.loc[(data_filt['powerPS']<1000) & (data_filt['powerPS']>80)]\n",
        "data_filt"
      ],
      "metadata": {
        "colab": {
          "base_uri": "https://localhost:8080/",
          "height": 835
        },
        "id": "YhLP6z8m12wW",
        "outputId": "9bdb817e-175a-4032-95f1-2b8fd9d2ad07"
      },
      "execution_count": null,
      "outputs": [
        {
          "output_type": "execute_result",
          "data": {
            "text/plain": [
              "                dateCrawled  \\\n",
              "1       2016-03-24 10:58:45   \n",
              "2       2016-03-14 12:52:21   \n",
              "5       2016-04-04 17:36:23   \n",
              "6       2016-04-01 20:48:51   \n",
              "8       2016-04-04 23:42:13   \n",
              "...                     ...   \n",
              "371520  2016-03-19 19:53:49   \n",
              "371524  2016-03-05 19:56:21   \n",
              "371525  2016-03-19 18:57:12   \n",
              "371526  2016-03-20 19:41:08   \n",
              "371527  2016-03-07 19:39:19   \n",
              "\n",
              "                                                     name  seller offerType  \\\n",
              "1                                    A5_Sportback_2.7_Tdi  privat   Angebot   \n",
              "2                          Jeep_Grand_Cherokee_\"Overland\"  privat   Angebot   \n",
              "5       BMW_316i___e36_Limousine___Bastlerfahrzeug__Ex...  privat   Angebot   \n",
              "6                             Peugeot_206_CC_110_Platinum  privat   Angebot   \n",
              "8                    Ford_C___Max_Titanium_1_0_L_EcoBoost  privat   Angebot   \n",
              "...                                                   ...     ...       ...   \n",
              "371520                                       turbo_defekt  privat   Angebot   \n",
              "371524              Smart_smart_leistungssteigerung_100ps  privat   Angebot   \n",
              "371525                 Volkswagen_Multivan_T4_TDI_7DC_UY2  privat   Angebot   \n",
              "371526                             VW_Golf_Kombi_1_9l_TDI  privat   Angebot   \n",
              "371527       BMW_M135i_vollausgestattet_NP_52.720____Euro  privat   Angebot   \n",
              "\n",
              "        price   abtest vehicleType  yearOfRegistration    gearbox  powerPS  \\\n",
              "1       18300     test       coupe                2011    manuell      190   \n",
              "2        9800     test         suv                2004  automatik      163   \n",
              "5         650     test   limousine                1995    manuell      102   \n",
              "6        2200     test      cabrio                2004    manuell      109   \n",
              "8       14500  control         bus                2014    manuell      125   \n",
              "...       ...      ...         ...                 ...        ...      ...   \n",
              "371520   3200  control   limousine                2004    manuell      225   \n",
              "371524   1199     test      cabrio                2000  automatik      101   \n",
              "371525   9200     test         bus                1996    manuell      102   \n",
              "371526   3400     test       kombi                2002    manuell      100   \n",
              "371527  28990  control   limousine                2013    manuell      320   \n",
              "\n",
              "              model  kilometer  monthOfRegistration fuelType       brand  \\\n",
              "1               NaN     125000                    5   diesel        audi   \n",
              "2             grand     125000                    8   diesel        jeep   \n",
              "5               3er     150000                   10   benzin         bmw   \n",
              "6           2_reihe     150000                    8   benzin     peugeot   \n",
              "8             c_max      30000                    8   benzin        ford   \n",
              "...             ...        ...                  ...      ...         ...   \n",
              "371520         leon     150000                    5   benzin        seat   \n",
              "371524       fortwo     125000                    3   benzin       smart   \n",
              "371525  transporter     150000                    3   diesel  volkswagen   \n",
              "371526         golf     150000                    6   diesel  volkswagen   \n",
              "371527      m_reihe      50000                    8   benzin         bmw   \n",
              "\n",
              "       notRepairedDamage          dateCreated  nrOfPictures  postalCode  \\\n",
              "1                     ja  2016-03-24 00:00:00             0       66954   \n",
              "2                    NaN  2016-03-14 00:00:00             0       90480   \n",
              "5                     ja  2016-04-04 00:00:00             0       33775   \n",
              "6                   nein  2016-04-01 00:00:00             0       67112   \n",
              "8                    NaN  2016-04-04 00:00:00             0       94505   \n",
              "...                  ...                  ...           ...         ...   \n",
              "371520                ja  2016-03-19 00:00:00             0       96465   \n",
              "371524              nein  2016-03-05 00:00:00             0       26135   \n",
              "371525              nein  2016-03-19 00:00:00             0       87439   \n",
              "371526               NaN  2016-03-20 00:00:00             0       40764   \n",
              "371527              nein  2016-03-07 00:00:00             0       73326   \n",
              "\n",
              "                   lastSeen  \n",
              "1       2016-04-07 01:46:50  \n",
              "2       2016-04-05 12:47:46  \n",
              "5       2016-04-06 19:17:07  \n",
              "6       2016-04-05 18:18:39  \n",
              "8       2016-04-04 23:42:13  \n",
              "...                     ...  \n",
              "371520  2016-03-19 20:44:43  \n",
              "371524  2016-03-11 18:17:12  \n",
              "371525  2016-04-07 07:15:26  \n",
              "371526  2016-03-24 12:45:21  \n",
              "371527  2016-03-22 03:17:10  \n",
              "\n",
              "[239934 rows x 20 columns]"
            ],
            "text/html": [
              "\n",
              "  <div id=\"df-9e729428-d5b0-4c24-9c41-a269bbbf2657\">\n",
              "    <div class=\"colab-df-container\">\n",
              "      <div>\n",
              "<style scoped>\n",
              "    .dataframe tbody tr th:only-of-type {\n",
              "        vertical-align: middle;\n",
              "    }\n",
              "\n",
              "    .dataframe tbody tr th {\n",
              "        vertical-align: top;\n",
              "    }\n",
              "\n",
              "    .dataframe thead th {\n",
              "        text-align: right;\n",
              "    }\n",
              "</style>\n",
              "<table border=\"1\" class=\"dataframe\">\n",
              "  <thead>\n",
              "    <tr style=\"text-align: right;\">\n",
              "      <th></th>\n",
              "      <th>dateCrawled</th>\n",
              "      <th>name</th>\n",
              "      <th>seller</th>\n",
              "      <th>offerType</th>\n",
              "      <th>price</th>\n",
              "      <th>abtest</th>\n",
              "      <th>vehicleType</th>\n",
              "      <th>yearOfRegistration</th>\n",
              "      <th>gearbox</th>\n",
              "      <th>powerPS</th>\n",
              "      <th>model</th>\n",
              "      <th>kilometer</th>\n",
              "      <th>monthOfRegistration</th>\n",
              "      <th>fuelType</th>\n",
              "      <th>brand</th>\n",
              "      <th>notRepairedDamage</th>\n",
              "      <th>dateCreated</th>\n",
              "      <th>nrOfPictures</th>\n",
              "      <th>postalCode</th>\n",
              "      <th>lastSeen</th>\n",
              "    </tr>\n",
              "  </thead>\n",
              "  <tbody>\n",
              "    <tr>\n",
              "      <th>1</th>\n",
              "      <td>2016-03-24 10:58:45</td>\n",
              "      <td>A5_Sportback_2.7_Tdi</td>\n",
              "      <td>privat</td>\n",
              "      <td>Angebot</td>\n",
              "      <td>18300</td>\n",
              "      <td>test</td>\n",
              "      <td>coupe</td>\n",
              "      <td>2011</td>\n",
              "      <td>manuell</td>\n",
              "      <td>190</td>\n",
              "      <td>NaN</td>\n",
              "      <td>125000</td>\n",
              "      <td>5</td>\n",
              "      <td>diesel</td>\n",
              "      <td>audi</td>\n",
              "      <td>ja</td>\n",
              "      <td>2016-03-24 00:00:00</td>\n",
              "      <td>0</td>\n",
              "      <td>66954</td>\n",
              "      <td>2016-04-07 01:46:50</td>\n",
              "    </tr>\n",
              "    <tr>\n",
              "      <th>2</th>\n",
              "      <td>2016-03-14 12:52:21</td>\n",
              "      <td>Jeep_Grand_Cherokee_\"Overland\"</td>\n",
              "      <td>privat</td>\n",
              "      <td>Angebot</td>\n",
              "      <td>9800</td>\n",
              "      <td>test</td>\n",
              "      <td>suv</td>\n",
              "      <td>2004</td>\n",
              "      <td>automatik</td>\n",
              "      <td>163</td>\n",
              "      <td>grand</td>\n",
              "      <td>125000</td>\n",
              "      <td>8</td>\n",
              "      <td>diesel</td>\n",
              "      <td>jeep</td>\n",
              "      <td>NaN</td>\n",
              "      <td>2016-03-14 00:00:00</td>\n",
              "      <td>0</td>\n",
              "      <td>90480</td>\n",
              "      <td>2016-04-05 12:47:46</td>\n",
              "    </tr>\n",
              "    <tr>\n",
              "      <th>5</th>\n",
              "      <td>2016-04-04 17:36:23</td>\n",
              "      <td>BMW_316i___e36_Limousine___Bastlerfahrzeug__Ex...</td>\n",
              "      <td>privat</td>\n",
              "      <td>Angebot</td>\n",
              "      <td>650</td>\n",
              "      <td>test</td>\n",
              "      <td>limousine</td>\n",
              "      <td>1995</td>\n",
              "      <td>manuell</td>\n",
              "      <td>102</td>\n",
              "      <td>3er</td>\n",
              "      <td>150000</td>\n",
              "      <td>10</td>\n",
              "      <td>benzin</td>\n",
              "      <td>bmw</td>\n",
              "      <td>ja</td>\n",
              "      <td>2016-04-04 00:00:00</td>\n",
              "      <td>0</td>\n",
              "      <td>33775</td>\n",
              "      <td>2016-04-06 19:17:07</td>\n",
              "    </tr>\n",
              "    <tr>\n",
              "      <th>6</th>\n",
              "      <td>2016-04-01 20:48:51</td>\n",
              "      <td>Peugeot_206_CC_110_Platinum</td>\n",
              "      <td>privat</td>\n",
              "      <td>Angebot</td>\n",
              "      <td>2200</td>\n",
              "      <td>test</td>\n",
              "      <td>cabrio</td>\n",
              "      <td>2004</td>\n",
              "      <td>manuell</td>\n",
              "      <td>109</td>\n",
              "      <td>2_reihe</td>\n",
              "      <td>150000</td>\n",
              "      <td>8</td>\n",
              "      <td>benzin</td>\n",
              "      <td>peugeot</td>\n",
              "      <td>nein</td>\n",
              "      <td>2016-04-01 00:00:00</td>\n",
              "      <td>0</td>\n",
              "      <td>67112</td>\n",
              "      <td>2016-04-05 18:18:39</td>\n",
              "    </tr>\n",
              "    <tr>\n",
              "      <th>8</th>\n",
              "      <td>2016-04-04 23:42:13</td>\n",
              "      <td>Ford_C___Max_Titanium_1_0_L_EcoBoost</td>\n",
              "      <td>privat</td>\n",
              "      <td>Angebot</td>\n",
              "      <td>14500</td>\n",
              "      <td>control</td>\n",
              "      <td>bus</td>\n",
              "      <td>2014</td>\n",
              "      <td>manuell</td>\n",
              "      <td>125</td>\n",
              "      <td>c_max</td>\n",
              "      <td>30000</td>\n",
              "      <td>8</td>\n",
              "      <td>benzin</td>\n",
              "      <td>ford</td>\n",
              "      <td>NaN</td>\n",
              "      <td>2016-04-04 00:00:00</td>\n",
              "      <td>0</td>\n",
              "      <td>94505</td>\n",
              "      <td>2016-04-04 23:42:13</td>\n",
              "    </tr>\n",
              "    <tr>\n",
              "      <th>...</th>\n",
              "      <td>...</td>\n",
              "      <td>...</td>\n",
              "      <td>...</td>\n",
              "      <td>...</td>\n",
              "      <td>...</td>\n",
              "      <td>...</td>\n",
              "      <td>...</td>\n",
              "      <td>...</td>\n",
              "      <td>...</td>\n",
              "      <td>...</td>\n",
              "      <td>...</td>\n",
              "      <td>...</td>\n",
              "      <td>...</td>\n",
              "      <td>...</td>\n",
              "      <td>...</td>\n",
              "      <td>...</td>\n",
              "      <td>...</td>\n",
              "      <td>...</td>\n",
              "      <td>...</td>\n",
              "      <td>...</td>\n",
              "    </tr>\n",
              "    <tr>\n",
              "      <th>371520</th>\n",
              "      <td>2016-03-19 19:53:49</td>\n",
              "      <td>turbo_defekt</td>\n",
              "      <td>privat</td>\n",
              "      <td>Angebot</td>\n",
              "      <td>3200</td>\n",
              "      <td>control</td>\n",
              "      <td>limousine</td>\n",
              "      <td>2004</td>\n",
              "      <td>manuell</td>\n",
              "      <td>225</td>\n",
              "      <td>leon</td>\n",
              "      <td>150000</td>\n",
              "      <td>5</td>\n",
              "      <td>benzin</td>\n",
              "      <td>seat</td>\n",
              "      <td>ja</td>\n",
              "      <td>2016-03-19 00:00:00</td>\n",
              "      <td>0</td>\n",
              "      <td>96465</td>\n",
              "      <td>2016-03-19 20:44:43</td>\n",
              "    </tr>\n",
              "    <tr>\n",
              "      <th>371524</th>\n",
              "      <td>2016-03-05 19:56:21</td>\n",
              "      <td>Smart_smart_leistungssteigerung_100ps</td>\n",
              "      <td>privat</td>\n",
              "      <td>Angebot</td>\n",
              "      <td>1199</td>\n",
              "      <td>test</td>\n",
              "      <td>cabrio</td>\n",
              "      <td>2000</td>\n",
              "      <td>automatik</td>\n",
              "      <td>101</td>\n",
              "      <td>fortwo</td>\n",
              "      <td>125000</td>\n",
              "      <td>3</td>\n",
              "      <td>benzin</td>\n",
              "      <td>smart</td>\n",
              "      <td>nein</td>\n",
              "      <td>2016-03-05 00:00:00</td>\n",
              "      <td>0</td>\n",
              "      <td>26135</td>\n",
              "      <td>2016-03-11 18:17:12</td>\n",
              "    </tr>\n",
              "    <tr>\n",
              "      <th>371525</th>\n",
              "      <td>2016-03-19 18:57:12</td>\n",
              "      <td>Volkswagen_Multivan_T4_TDI_7DC_UY2</td>\n",
              "      <td>privat</td>\n",
              "      <td>Angebot</td>\n",
              "      <td>9200</td>\n",
              "      <td>test</td>\n",
              "      <td>bus</td>\n",
              "      <td>1996</td>\n",
              "      <td>manuell</td>\n",
              "      <td>102</td>\n",
              "      <td>transporter</td>\n",
              "      <td>150000</td>\n",
              "      <td>3</td>\n",
              "      <td>diesel</td>\n",
              "      <td>volkswagen</td>\n",
              "      <td>nein</td>\n",
              "      <td>2016-03-19 00:00:00</td>\n",
              "      <td>0</td>\n",
              "      <td>87439</td>\n",
              "      <td>2016-04-07 07:15:26</td>\n",
              "    </tr>\n",
              "    <tr>\n",
              "      <th>371526</th>\n",
              "      <td>2016-03-20 19:41:08</td>\n",
              "      <td>VW_Golf_Kombi_1_9l_TDI</td>\n",
              "      <td>privat</td>\n",
              "      <td>Angebot</td>\n",
              "      <td>3400</td>\n",
              "      <td>test</td>\n",
              "      <td>kombi</td>\n",
              "      <td>2002</td>\n",
              "      <td>manuell</td>\n",
              "      <td>100</td>\n",
              "      <td>golf</td>\n",
              "      <td>150000</td>\n",
              "      <td>6</td>\n",
              "      <td>diesel</td>\n",
              "      <td>volkswagen</td>\n",
              "      <td>NaN</td>\n",
              "      <td>2016-03-20 00:00:00</td>\n",
              "      <td>0</td>\n",
              "      <td>40764</td>\n",
              "      <td>2016-03-24 12:45:21</td>\n",
              "    </tr>\n",
              "    <tr>\n",
              "      <th>371527</th>\n",
              "      <td>2016-03-07 19:39:19</td>\n",
              "      <td>BMW_M135i_vollausgestattet_NP_52.720____Euro</td>\n",
              "      <td>privat</td>\n",
              "      <td>Angebot</td>\n",
              "      <td>28990</td>\n",
              "      <td>control</td>\n",
              "      <td>limousine</td>\n",
              "      <td>2013</td>\n",
              "      <td>manuell</td>\n",
              "      <td>320</td>\n",
              "      <td>m_reihe</td>\n",
              "      <td>50000</td>\n",
              "      <td>8</td>\n",
              "      <td>benzin</td>\n",
              "      <td>bmw</td>\n",
              "      <td>nein</td>\n",
              "      <td>2016-03-07 00:00:00</td>\n",
              "      <td>0</td>\n",
              "      <td>73326</td>\n",
              "      <td>2016-03-22 03:17:10</td>\n",
              "    </tr>\n",
              "  </tbody>\n",
              "</table>\n",
              "<p>239934 rows × 20 columns</p>\n",
              "</div>\n",
              "      <button class=\"colab-df-convert\" onclick=\"convertToInteractive('df-9e729428-d5b0-4c24-9c41-a269bbbf2657')\"\n",
              "              title=\"Convert this dataframe to an interactive table.\"\n",
              "              style=\"display:none;\">\n",
              "        \n",
              "  <svg xmlns=\"http://www.w3.org/2000/svg\" height=\"24px\"viewBox=\"0 0 24 24\"\n",
              "       width=\"24px\">\n",
              "    <path d=\"M0 0h24v24H0V0z\" fill=\"none\"/>\n",
              "    <path d=\"M18.56 5.44l.94 2.06.94-2.06 2.06-.94-2.06-.94-.94-2.06-.94 2.06-2.06.94zm-11 1L8.5 8.5l.94-2.06 2.06-.94-2.06-.94L8.5 2.5l-.94 2.06-2.06.94zm10 10l.94 2.06.94-2.06 2.06-.94-2.06-.94-.94-2.06-.94 2.06-2.06.94z\"/><path d=\"M17.41 7.96l-1.37-1.37c-.4-.4-.92-.59-1.43-.59-.52 0-1.04.2-1.43.59L10.3 9.45l-7.72 7.72c-.78.78-.78 2.05 0 2.83L4 21.41c.39.39.9.59 1.41.59.51 0 1.02-.2 1.41-.59l7.78-7.78 2.81-2.81c.8-.78.8-2.07 0-2.86zM5.41 20L4 18.59l7.72-7.72 1.47 1.35L5.41 20z\"/>\n",
              "  </svg>\n",
              "      </button>\n",
              "      \n",
              "  <style>\n",
              "    .colab-df-container {\n",
              "      display:flex;\n",
              "      flex-wrap:wrap;\n",
              "      gap: 12px;\n",
              "    }\n",
              "\n",
              "    .colab-df-convert {\n",
              "      background-color: #E8F0FE;\n",
              "      border: none;\n",
              "      border-radius: 50%;\n",
              "      cursor: pointer;\n",
              "      display: none;\n",
              "      fill: #1967D2;\n",
              "      height: 32px;\n",
              "      padding: 0 0 0 0;\n",
              "      width: 32px;\n",
              "    }\n",
              "\n",
              "    .colab-df-convert:hover {\n",
              "      background-color: #E2EBFA;\n",
              "      box-shadow: 0px 1px 2px rgba(60, 64, 67, 0.3), 0px 1px 3px 1px rgba(60, 64, 67, 0.15);\n",
              "      fill: #174EA6;\n",
              "    }\n",
              "\n",
              "    [theme=dark] .colab-df-convert {\n",
              "      background-color: #3B4455;\n",
              "      fill: #D2E3FC;\n",
              "    }\n",
              "\n",
              "    [theme=dark] .colab-df-convert:hover {\n",
              "      background-color: #434B5C;\n",
              "      box-shadow: 0px 1px 3px 1px rgba(0, 0, 0, 0.15);\n",
              "      filter: drop-shadow(0px 1px 2px rgba(0, 0, 0, 0.3));\n",
              "      fill: #FFFFFF;\n",
              "    }\n",
              "  </style>\n",
              "\n",
              "      <script>\n",
              "        const buttonEl =\n",
              "          document.querySelector('#df-9e729428-d5b0-4c24-9c41-a269bbbf2657 button.colab-df-convert');\n",
              "        buttonEl.style.display =\n",
              "          google.colab.kernel.accessAllowed ? 'block' : 'none';\n",
              "\n",
              "        async function convertToInteractive(key) {\n",
              "          const element = document.querySelector('#df-9e729428-d5b0-4c24-9c41-a269bbbf2657');\n",
              "          const dataTable =\n",
              "            await google.colab.kernel.invokeFunction('convertToInteractive',\n",
              "                                                     [key], {});\n",
              "          if (!dataTable) return;\n",
              "\n",
              "          const docLinkHtml = 'Like what you see? Visit the ' +\n",
              "            '<a target=\"_blank\" href=https://colab.research.google.com/notebooks/data_table.ipynb>data table notebook</a>'\n",
              "            + ' to learn more about interactive tables.';\n",
              "          element.innerHTML = '';\n",
              "          dataTable['output_type'] = 'display_data';\n",
              "          await google.colab.output.renderOutput(dataTable, element);\n",
              "          const docLink = document.createElement('div');\n",
              "          docLink.innerHTML = docLinkHtml;\n",
              "          element.appendChild(docLink);\n",
              "        }\n",
              "      </script>\n",
              "    </div>\n",
              "  </div>\n",
              "  "
            ]
          },
          "metadata": {},
          "execution_count": 22
        }
      ]
    },
    {
      "cell_type": "code",
      "source": [
        "from sklearn.linear_model import LinearRegression\n",
        "import sklearn as sk\n",
        "import pandas as pd\n",
        "import numpy as np\n",
        "\n",
        "data_file = pd.read_csv('/content/sample_data/autos (1).csv')\n",
        "\n",
        "data_filt = data_file.loc[(data_file['price']<1000000) & (data_file['price']>0)]\n",
        "data_filt = data_filt.loc[(data_filt['powerPS']<1000) & (data_filt['powerPS']>80)]\n",
        "\n",
        "price = data_filt['price']\n",
        "power = data_filt['powerPS']\n",
        "\n",
        "x=np.array(price).reshape((-1,1))\n",
        "x\n",
        "y=np.array(power)\n",
        "y\n",
        "\n",
        "model = LinearRegression()\n",
        "model.fit(x,y)\n",
        "rsq = model.score(x,y)\n",
        "rsq"
      ],
      "metadata": {
        "colab": {
          "base_uri": "https://localhost:8080/"
        },
        "id": "WxtzW3tq3NX_",
        "outputId": "a25e4d5a-f11c-4093-eb72-45fe336bb89e"
      },
      "execution_count": null,
      "outputs": [
        {
          "output_type": "execute_result",
          "data": {
            "text/plain": [
              "0.18687731580346678"
            ]
          },
          "metadata": {},
          "execution_count": 23
        }
      ]
    },
    {
      "cell_type": "code",
      "source": [
        "from sklearn.preprocessing import Imputer\n",
        "from sklearn.linear_model import LinearRegression\n",
        "import sklearn as sk\n",
        "import pandas as pd\n",
        "import numpy as np\n",
        "\n",
        "data_file = pd.read_csv('/content/sample_data/autos (1).csv')\n",
        "\n",
        "data_filt = data_file.loc[(data_file['price']<1000000) & (data_file['price']>0)]\n",
        "data_filt = data_filt.loc[(data_filt['powerPS']<1000) & (data_filt['powerPS']>80)]\n",
        "\n",
        "\n",
        "\n",
        "\n",
        "imputer = Imputer(missing_values = 'NaN', strategy = 'mean', axis = 0)\n",
        "imputer.fit(data_filt['fueltype'])\n",
        "data_filt['fueltype'] = imputer.transform(data_filt['fueltype'])\n"
      ],
      "metadata": {
        "colab": {
          "base_uri": "https://localhost:8080/",
          "height": 392
        },
        "id": "gXaCq2713h7W",
        "outputId": "0e59b66d-83d0-4ea3-aaad-470d90eeec2c"
      },
      "execution_count": null,
      "outputs": [
        {
          "output_type": "error",
          "ename": "ImportError",
          "evalue": "ignored",
          "traceback": [
            "\u001b[0;31m---------------------------------------------------------------------------\u001b[0m",
            "\u001b[0;31mImportError\u001b[0m                               Traceback (most recent call last)",
            "\u001b[0;32m<ipython-input-24-d59331048529>\u001b[0m in \u001b[0;36m<module>\u001b[0;34m\u001b[0m\n\u001b[0;32m----> 1\u001b[0;31m \u001b[0;32mfrom\u001b[0m \u001b[0msklearn\u001b[0m\u001b[0;34m.\u001b[0m\u001b[0mpreprocessing\u001b[0m \u001b[0;32mimport\u001b[0m \u001b[0mImputer\u001b[0m\u001b[0;34m\u001b[0m\u001b[0;34m\u001b[0m\u001b[0m\n\u001b[0m\u001b[1;32m      2\u001b[0m \u001b[0;32mfrom\u001b[0m \u001b[0msklearn\u001b[0m\u001b[0;34m.\u001b[0m\u001b[0mlinear_model\u001b[0m \u001b[0;32mimport\u001b[0m \u001b[0mLinearRegression\u001b[0m\u001b[0;34m\u001b[0m\u001b[0;34m\u001b[0m\u001b[0m\n\u001b[1;32m      3\u001b[0m \u001b[0;32mimport\u001b[0m \u001b[0msklearn\u001b[0m \u001b[0;32mas\u001b[0m \u001b[0msk\u001b[0m\u001b[0;34m\u001b[0m\u001b[0;34m\u001b[0m\u001b[0m\n\u001b[1;32m      4\u001b[0m \u001b[0;32mimport\u001b[0m \u001b[0mpandas\u001b[0m \u001b[0;32mas\u001b[0m \u001b[0mpd\u001b[0m\u001b[0;34m\u001b[0m\u001b[0;34m\u001b[0m\u001b[0m\n\u001b[1;32m      5\u001b[0m \u001b[0;32mimport\u001b[0m \u001b[0mnumpy\u001b[0m \u001b[0;32mas\u001b[0m \u001b[0mnp\u001b[0m\u001b[0;34m\u001b[0m\u001b[0;34m\u001b[0m\u001b[0m\n",
            "\u001b[0;31mImportError\u001b[0m: cannot import name 'Imputer' from 'sklearn.preprocessing' (/usr/local/lib/python3.9/dist-packages/sklearn/preprocessing/__init__.py)",
            "",
            "\u001b[0;31m---------------------------------------------------------------------------\u001b[0;32m\nNOTE: If your import is failing due to a missing package, you can\nmanually install dependencies using either !pip or !apt.\n\nTo view examples of installing some common dependencies, click the\n\"Open Examples\" button below.\n\u001b[0;31m---------------------------------------------------------------------------\u001b[0m\n"
          ],
          "errorDetails": {
            "actions": [
              {
                "action": "open_url",
                "actionText": "Open Examples",
                "url": "/notebooks/snippets/importing_libraries.ipynb"
              }
            ]
          }
        }
      ]
    },
    {
      "cell_type": "code",
      "source": [
        "seaborn/ урок 5"
      ],
      "metadata": {
        "id": "gvHNZZRDmBjk"
      },
      "execution_count": null,
      "outputs": []
    },
    {
      "cell_type": "code",
      "source": [
        "#from sklearn.preprocessing import Imputer\n",
        "from sklearn.linear_model import LinearRegression\n",
        "import sklearn as sk\n",
        "import pandas as pd\n",
        "import numpy as np\n",
        "import seaborn as sns\n",
        "\n",
        "data_file = pd.read_csv('/content/sample_data/5.0 tips.csv')\n",
        "\n",
        "\n",
        "sns.lmplot(x='tip',y='total_bill', hue='smoker', data=data_file, fit_reg=False)"
      ],
      "metadata": {
        "colab": {
          "base_uri": "https://localhost:8080/",
          "height": 386
        },
        "id": "_O0Ao7aDmIAB",
        "outputId": "c71521ba-a043-47be-8c98-a232629e0545"
      },
      "execution_count": null,
      "outputs": [
        {
          "output_type": "execute_result",
          "data": {
            "text/plain": [
              "<seaborn.axisgrid.FacetGrid at 0x7fa4fa1f51f0>"
            ]
          },
          "metadata": {},
          "execution_count": 6
        },
        {
          "output_type": "display_data",
          "data": {
            "text/plain": [
              "<Figure size 412x360 with 1 Axes>"
            ],
            "image/png": "[encoded data removed]"
          },
          "metadata": {
            "needs_background": "light"
          }
        }
      ]
    },
    {
      "cell_type": "code",
      "source": [
        "#from sklearn.preprocessing import Imputer\n",
        "from sklearn.linear_model import LinearRegression\n",
        "import sklearn as sk\n",
        "import pandas as pd\n",
        "import numpy as np\n",
        "import seaborn as sns\n",
        "\n",
        "data_file = pd.read_csv('/content/sample_data/5.0 tips.csv')\n",
        "\n",
        "\n",
        "sns.histplot(x='total_bill',y='day',data=data_file)"
      ],
      "metadata": {
        "colab": {
          "base_uri": "https://localhost:8080/",
          "height": 297
        },
        "id": "Hbnw-BTApvEv",
        "outputId": "877aeaa0-0516-40f8-81a3-8360496a7046"
      },
      "execution_count": null,
      "outputs": [
        {
          "output_type": "execute_result",
          "data": {
            "text/plain": [
              "<Axes: xlabel='total_bill', ylabel='day'>"
            ]
          },
          "metadata": {},
          "execution_count": 8
        },
        {
          "output_type": "display_data",
          "data": {
            "text/plain": [
              "<Figure size 432x288 with 1 Axes>"
            ],
            "image/png": "[encoded data removed]"
          },
          "metadata": {
            "needs_background": "light"
          }
        }
      ]
    },
    {
      "cell_type": "code",
      "source": [
        "\n",
        "#from sklearn.preprocessing import Imputer\n",
        "from sklearn.linear_model import LinearRegression\n",
        "import sklearn as sk\n",
        "import pandas as pd\n",
        "import numpy as np\n",
        "import seaborn as sns\n",
        "\n",
        "data_file = pd.read_csv('/content/sample_data/5.0 tips.csv')\n",
        "data = {'pr': data_file['total_bill'], 'we': data_file['day']}\n",
        "\n",
        "# Create DataFrame\n",
        "df = pd.DataFrame(data)\n",
        "sns.histplot(x='pr', y='we', data=df)"
      ],
      "metadata": {
        "colab": {
          "base_uri": "https://localhost:8080/",
          "height": 296
        },
        "id": "KGN1PsPhrwNa",
        "outputId": "e3df0936-8827-45f1-b096-4fefc2bcdb44"
      },
      "execution_count": null,
      "outputs": [
        {
          "output_type": "execute_result",
          "data": {
            "text/plain": [
              "<Axes: xlabel='pr', ylabel='we'>"
            ]
          },
          "metadata": {},
          "execution_count": 14
        },
        {
          "output_type": "display_data",
          "data": {
            "text/plain": [
              "<Figure size 432x288 with 1 Axes>"
            ],
            "image/png": "[encoded data removed]"
          },
          "metadata": {
            "needs_background": "light"
          }
        }
      ]
    },
    {
      "cell_type": "code",
      "source": [
        "from sklearn.linear_model import LinearRegression\n",
        "import sklearn as sk\n",
        "import pandas as pd\n",
        "import numpy as np\n",
        "import seaborn as sns\n",
        "\n",
        "data_file = pd.read_csv('/content/sample_data/5.0 tips.csv')\n",
        "\n",
        "data_file['smoker'] = data_file['smoker'].map({'No': 0,\n",
        "                               'Yes': 1})\n",
        "print(data_file)"
      ],
      "metadata": {
        "colab": {
          "base_uri": "https://localhost:8080/"
        },
        "id": "-C4zVryEsmt7",
        "outputId": "b8b5d13a-e418-4c29-cfc7-5c11b44edab1"
      },
      "execution_count": null,
      "outputs": [
        {
          "output_type": "stream",
          "name": "stdout",
          "text": [
            "     total_bill   tip     sex  smoker   day    time  size\n",
            "0         16.99  1.01  Female       0   Sun  Dinner     2\n",
            "1         10.34  1.66    Male       0   Sun  Dinner     3\n",
            "2         21.01  3.50    Male       0   Sun  Dinner     3\n",
            "3         23.68  3.31    Male       0   Sun  Dinner     2\n",
            "4         24.59  3.61  Female       0   Sun  Dinner     4\n",
            "..          ...   ...     ...     ...   ...     ...   ...\n",
            "239       29.03  5.92    Male       0   Sat  Dinner     3\n",
            "240       27.18  2.00  Female       1   Sat  Dinner     2\n",
            "241       22.67  2.00    Male       1   Sat  Dinner     2\n",
            "242       17.82  1.75    Male       0   Sat  Dinner     2\n",
            "243       18.78  3.00  Female       0  Thur  Dinner     2\n",
            "\n",
            "[244 rows x 7 columns]\n"
          ]
        }
      ]
    },
    {
      "cell_type": "code",
      "source": [
        "from sklearn.model_selection import train_test_split\n",
        "from sklearn.linear_model import LinearRegression\n",
        "import sklearn as sk\n",
        "import pandas as pd\n",
        "import numpy as np\n",
        "import seaborn as sns\n",
        "\n",
        "data_file = pd.read_csv('/content/sample_data/5.0 tips.csv')\n",
        "\n",
        "data_file['smoker'] = data_file['smoker'].map({'No': 0,\n",
        "                               'Yes': 1})\n",
        "X = data_file.loc[(data_file['smoker']==1)]\n",
        "print(X)\n",
        "\n",
        "y = data_file.loc[(data_file['smoker']==1)]\n",
        "X_train, X_test, y_train, y_test = train_test_split(X, y, test_size=0.2, random_state = 0)\n"
      ],
      "metadata": {
        "colab": {
          "base_uri": "https://localhost:8080/"
        },
        "id": "1lbhqJVWtdyb",
        "outputId": "a33e7009-187c-4b2a-c0a3-e0a25258a49d"
      },
      "execution_count": null,
      "outputs": [
        {
          "output_type": "stream",
          "name": "stdout",
          "text": [
            "     total_bill   tip     sex  smoker  day    time  size\n",
            "56        38.01  3.00    Male       1  Sat  Dinner     4\n",
            "58        11.24  1.76    Male       1  Sat  Dinner     2\n",
            "60        20.29  3.21    Male       1  Sat  Dinner     2\n",
            "61        13.81  2.00    Male       1  Sat  Dinner     2\n",
            "62        11.02  1.98    Male       1  Sat  Dinner     2\n",
            "..          ...   ...     ...     ...  ...     ...   ...\n",
            "234       15.53  3.00    Male       1  Sat  Dinner     2\n",
            "236       12.60  1.00    Male       1  Sat  Dinner     2\n",
            "237       32.83  1.17    Male       1  Sat  Dinner     2\n",
            "240       27.18  2.00  Female       1  Sat  Dinner     2\n",
            "241       22.67  2.00    Male       1  Sat  Dinner     2\n",
            "\n",
            "[93 rows x 7 columns]\n"
          ]
        }
      ]
    },
    {
      "cell_type": "code",
      "source": [
        "from sklearn.linear_model import LinearRegression\n",
        "import sklearn as sk\n",
        "import pandas as pd\n",
        "import numpy as np\n",
        "import seaborn as sns\n",
        "\n",
        "data_file = pd.read_csv('/content/sample_data/5.0 tips.csv')\n",
        "\n",
        "\n",
        "sns.lmplot(x='tip',y='total_bill', data=data_file, fit_reg=False)\n",
        "sns.lmplot(x='tip',y='size', data=data_file, fit_reg=False)\n",
        "data_file['day'] = data_file['day'].map({'Thur': 4,\n",
        "                               'Fri': 5,\n",
        "                               'Sat': 6,\n",
        "                               'Sun': 7})\n",
        "sns.lmplot(x='tip',y='day', data=data_file, fit_reg=False)"
      ],
      "metadata": {
        "colab": {
          "base_uri": "https://localhost:8080/",
          "height": 1000
        },
        "id": "LQC_KDKu0L_y",
        "outputId": "0e3317d9-4be7-4127-da67-5245829e5fa2"
      },
      "execution_count": null,
      "outputs": [
        {
          "output_type": "execute_result",
          "data": {
            "text/plain": [
              "<seaborn.axisgrid.FacetGrid at 0x7fa4f9db5460>"
            ]
          },
          "metadata": {},
          "execution_count": 27
        },
        {
          "output_type": "display_data",
          "data": {
            "text/plain": [
              "<Figure size 360x360 with 1 Axes>"
            ],
            "image/png": "[encoded data removed]"
          },
          "metadata": {
            "needs_background": "light"
          }
        },
        {
          "output_type": "display_data",
          "data": {
            "text/plain": [
              "<Figure size 360x360 with 1 Axes>"
            ],
            "image/png": "[encoded data removed]"
          },
          "metadata": {
            "needs_background": "light"
          }
        },
        {
          "output_type": "display_data",
          "data": {
            "text/plain": [
              "<Figure size 360x360 with 1 Axes>"
            ],
            "image/png": "[encoded data removed]"
          },
          "metadata": {
            "needs_background": "light"
          }
        }
      ]
    },
    {
      "cell_type": "code",
      "source": [
        "from sklearn.linear_model import LinearRegression\n",
        "import sklearn as sk\n",
        "import pandas as pd\n",
        "import numpy as np\n",
        "import seaborn as sns\n",
        "\n",
        "data_file = pd.read_csv('/content/sample_data/5.0 tips.csv')\n",
        "data = {'t': data_file['tip'], 'we': data_file['day']}\n",
        "\n",
        "# Create DataFrame\n",
        "df = pd.DataFrame(data)\n",
        "sns.histplot(x='t', y='we', data=df)"
      ],
      "metadata": {
        "colab": {
          "base_uri": "https://localhost:8080/",
          "height": 296
        },
        "id": "WklLS-kY1bfv",
        "outputId": "c7253234-f1ca-41a1-a5ac-59f42b0e7092"
      },
      "execution_count": null,
      "outputs": [
        {
          "output_type": "execute_result",
          "data": {
            "text/plain": [
              "<Axes: xlabel='t', ylabel='we'>"
            ]
          },
          "metadata": {},
          "execution_count": 28
        },
        {
          "output_type": "display_data",
          "data": {
            "text/plain": [
              "<Figure size 432x288 with 1 Axes>"
            ],
            "image/png": "[encoded data removed]"
          },
          "metadata": {
            "needs_background": "light"
          }
        }
      ]
    },
    {
      "cell_type": "code",
      "source": [
        "from sklearn.model_selection import train_test_split\n",
        "from sklearn.linear_model import LinearRegression\n",
        "import sklearn as sk\n",
        "import pandas as pd\n",
        "import numpy as np\n",
        "import seaborn as sns\n",
        "\n",
        "data_file = pd.read_csv('/content/sample_data/5.0 tips.csv')\n",
        "\n",
        "\n",
        "'''\n",
        "data_file['smoker'] = data_file['smoker'].map({'No': 0,\n",
        "                               'Yes': 1})\n",
        "X = data_file.loc[(data_file['smoker']==1)]\n",
        "print(X)\n",
        "\n",
        "y = data_file.loc[(data_file['smoker']==1)]\n",
        "'''\n",
        "\n",
        "\n",
        "X=np.array(data_file['tip'])\n",
        "Y=np.array(data_file['total_bill'])\n",
        "\n",
        "X_train, X_test, Y_train, Y_test = train_test_split(X, Y, test_size=0.2, random_state = 0)\n",
        "X_train=np.array(X_train).reshape((-1,1))\n",
        "model = LinearRegression()\n",
        "X_train\n",
        "model.fit(X_train, Y_train)\n",
        "print(model.predict([[10]]))\n",
        "print(model.predict([[3]]))\n",
        "print(model.predict([[4.45]]))"
      ],
      "metadata": {
        "colab": {
          "base_uri": "https://localhost:8080/"
        },
        "id": "Yw12t1Wi2Iy5",
        "outputId": "f7669dfb-483d-4def-f9dd-794fb65a6493"
      },
      "execution_count": null,
      "outputs": [
        {
          "output_type": "stream",
          "name": "stdout",
          "text": [
            "[50.25846921]\n",
            "[20.26398811]\n",
            "[26.47713063]\n"
          ]
        }
      ]
    },
    {
      "cell_type": "markdown",
      "source": [
        "# Logistic Regression"
      ],
      "metadata": {
        "id": "PeqHwpHYp5Lx"
      }
    },
    {
      "cell_type": "code",
      "source": [
        "import matplotlib.pyplot as plt\n",
        "import numpy as np\n",
        "from sklearn.linear_model import LogisticRegression\n",
        "from sklearn.metrics import classification_report, confusion_matrix\n",
        "\n",
        "\n",
        "x=np.arange(10).reshape(-1,1)\n",
        "y=[0,1,0,0,1,1,1,1,1,1]\n",
        "\n",
        "model = LogisticRegression(solver='liblinear', random_state=0)\n",
        "model.fit(x,y)\n",
        "plt.scatter(x,y)"
      ],
      "metadata": {
        "id": "kiaZrUJe3Dza",
        "colab": {
          "base_uri": "https://localhost:8080/",
          "height": 409
        },
        "outputId": "8f0dc9d9-e0c1-4aff-bd2a-b16ff63fa2ea"
      },
      "execution_count": null,
      "outputs": [
        {
          "output_type": "error",
          "ename": "ValueError",
          "evalue": "ignored",
          "traceback": [
            "\u001b[0;31m---------------------------------------------------------------------------\u001b[0m",
            "\u001b[0;31mValueError\u001b[0m                                Traceback (most recent call last)",
            "\u001b[0;32m<ipython-input-8-e3b492a5f3df>\u001b[0m in \u001b[0;36m<cell line: 11>\u001b[0;34m()\u001b[0m\n\u001b[1;32m      9\u001b[0m \u001b[0;34m\u001b[0m\u001b[0m\n\u001b[1;32m     10\u001b[0m \u001b[0mmodel\u001b[0m \u001b[0;34m=\u001b[0m \u001b[0mLinearRegression\u001b[0m\u001b[0;34m(\u001b[0m\u001b[0;34m)\u001b[0m\u001b[0;34m\u001b[0m\u001b[0;34m\u001b[0m\u001b[0m\n\u001b[0;32m---> 11\u001b[0;31m \u001b[0mmodel\u001b[0m\u001b[0;34m.\u001b[0m\u001b[0mfit\u001b[0m\u001b[0;34m(\u001b[0m\u001b[0mx\u001b[0m\u001b[0;34m,\u001b[0m\u001b[0my\u001b[0m\u001b[0;34m)\u001b[0m\u001b[0;34m\u001b[0m\u001b[0;34m\u001b[0m\u001b[0m\n\u001b[0m\u001b[1;32m     12\u001b[0m \u001b[0mprint\u001b[0m\u001b[0;34m(\u001b[0m\u001b[0mmodel\u001b[0m\u001b[0;34m.\u001b[0m\u001b[0mpredict\u001b[0m\u001b[0;34m(\u001b[0m\u001b[0;34m[\u001b[0m\u001b[0;34m[\u001b[0m\u001b[0;34m'a'\u001b[0m\u001b[0;34m]\u001b[0m\u001b[0;34m]\u001b[0m\u001b[0;34m)\u001b[0m\u001b[0;34m)\u001b[0m\u001b[0;34m\u001b[0m\u001b[0;34m\u001b[0m\u001b[0m\n\u001b[1;32m     13\u001b[0m \u001b[0;31m#plt.scatter(x,y)\u001b[0m\u001b[0;34m\u001b[0m\u001b[0;34m\u001b[0m\u001b[0m\n",
            "\u001b[0;32m/usr/local/lib/python3.10/dist-packages/sklearn/linear_model/_base.py\u001b[0m in \u001b[0;36mfit\u001b[0;34m(self, X, y, sample_weight)\u001b[0m\n\u001b[1;32m    654\u001b[0m         )\n\u001b[1;32m    655\u001b[0m \u001b[0;34m\u001b[0m\u001b[0m\n\u001b[0;32m--> 656\u001b[0;31m         X, y, X_offset, y_offset, X_scale = _preprocess_data(\n\u001b[0m\u001b[1;32m    657\u001b[0m             \u001b[0mX\u001b[0m\u001b[0;34m,\u001b[0m\u001b[0;34m\u001b[0m\u001b[0;34m\u001b[0m\u001b[0m\n\u001b[1;32m    658\u001b[0m             \u001b[0my\u001b[0m\u001b[0;34m,\u001b[0m\u001b[0;34m\u001b[0m\u001b[0;34m\u001b[0m\u001b[0m\n",
            "\u001b[0;32m/usr/local/lib/python3.10/dist-packages/sklearn/linear_model/_base.py\u001b[0m in \u001b[0;36m_preprocess_data\u001b[0;34m(X, y, fit_intercept, normalize, copy, sample_weight, check_input)\u001b[0m\n\u001b[1;32m    235\u001b[0m             \u001b[0mX\u001b[0m \u001b[0;34m=\u001b[0m \u001b[0mX\u001b[0m\u001b[0;34m.\u001b[0m\u001b[0mcopy\u001b[0m\u001b[0;34m(\u001b[0m\u001b[0morder\u001b[0m\u001b[0;34m=\u001b[0m\u001b[0;34m\"K\"\u001b[0m\u001b[0;34m)\u001b[0m\u001b[0;34m\u001b[0m\u001b[0;34m\u001b[0m\u001b[0m\n\u001b[1;32m    236\u001b[0m \u001b[0;34m\u001b[0m\u001b[0m\n\u001b[0;32m--> 237\u001b[0;31m     \u001b[0my\u001b[0m \u001b[0;34m=\u001b[0m \u001b[0mnp\u001b[0m\u001b[0;34m.\u001b[0m\u001b[0masarray\u001b[0m\u001b[0;34m(\u001b[0m\u001b[0my\u001b[0m\u001b[0;34m,\u001b[0m \u001b[0mdtype\u001b[0m\u001b[0;34m=\u001b[0m\u001b[0mX\u001b[0m\u001b[0;34m.\u001b[0m\u001b[0mdtype\u001b[0m\u001b[0;34m)\u001b[0m\u001b[0;34m\u001b[0m\u001b[0;34m\u001b[0m\u001b[0m\n\u001b[0m\u001b[1;32m    238\u001b[0m \u001b[0;34m\u001b[0m\u001b[0m\n\u001b[1;32m    239\u001b[0m     \u001b[0;32mif\u001b[0m \u001b[0mfit_intercept\u001b[0m\u001b[0;34m:\u001b[0m\u001b[0;34m\u001b[0m\u001b[0;34m\u001b[0m\u001b[0m\n",
            "\u001b[0;31mValueError\u001b[0m: could not convert string to float: 'a'"
          ]
        }
      ]
    },
    {
      "cell_type": "code",
      "source": [
        "import matplotlib.pyplot as plt\n",
        "import numpy as np\n",
        "import pandas as pd\n",
        "from sklearn.linear_model import LogisticRegression\n",
        "from sklearn.metrics import classification_report, confusion_matrix\n",
        "\n",
        "data_file = pd.read_csv(\"/content/sample_data/5.0 marks1.csv\")\n",
        "data_file"
      ],
      "metadata": {
        "colab": {
          "base_uri": "https://localhost:8080/",
          "height": 424
        },
        "id": "CTnaeKmuvsjO",
        "outputId": "cc4861fa-c600-4056-d588-b5760b1854d9"
      },
      "execution_count": null,
      "outputs": [
        {
          "output_type": "execute_result",
          "data": {
            "text/plain": [
              "     34.62365962451697;78.0246928153624;0\n",
              "0   30.28671076822607;43.89499752400101;0\n",
              "1   35.84740876993872;72.90219802708364;0\n",
              "2   60.18259938620976;86.30855209546826;1\n",
              "3     79.0327360507101;75.3443764369103;1\n",
              "4    45.08327747668339;56.3163717815305;0\n",
              "..                                    ...\n",
              "94  83.48916274498238;48.38028579728175;1\n",
              "95   42.2617008099817;87.10385094025457;1\n",
              "96  99.31500880510394;68.77540947206617;1\n",
              "97   55.34001756003703;64.9319380069486;1\n",
              "98  74.77589300092767;89.52981289513276;1\n",
              "\n",
              "[99 rows x 1 columns]"
            ],
            "text/html": [
              "\n",
              "  <div id=\"df-da0ef56c-466a-43de-9775-4028e8e72f75\">\n",
              "    <div class=\"colab-df-container\">\n",
              "      <div>\n",
              "<style scoped>\n",
              "    .dataframe tbody tr th:only-of-type {\n",
              "        vertical-align: middle;\n",
              "    }\n",
              "\n",
              "    .dataframe tbody tr th {\n",
              "        vertical-align: top;\n",
              "    }\n",
              "\n",
              "    .dataframe thead th {\n",
              "        text-align: right;\n",
              "    }\n",
              "</style>\n",
              "<table border=\"1\" class=\"dataframe\">\n",
              "  <thead>\n",
              "    <tr style=\"text-align: right;\">\n",
              "      <th></th>\n",
              "      <th>34.62365962451697;78.0246928153624;0</th>\n",
              "    </tr>\n",
              "  </thead>\n",
              "  <tbody>\n",
              "    <tr>\n",
              "      <th>0</th>\n",
              "      <td>30.28671076822607;43.89499752400101;0</td>\n",
              "    </tr>\n",
              "    <tr>\n",
              "      <th>1</th>\n",
              "      <td>35.84740876993872;72.90219802708364;0</td>\n",
              "    </tr>\n",
              "    <tr>\n",
              "      <th>2</th>\n",
              "      <td>60.18259938620976;86.30855209546826;1</td>\n",
              "    </tr>\n",
              "    <tr>\n",
              "      <th>3</th>\n",
              "      <td>79.0327360507101;75.3443764369103;1</td>\n",
              "    </tr>\n",
              "    <tr>\n",
              "      <th>4</th>\n",
              "      <td>45.08327747668339;56.3163717815305;0</td>\n",
              "    </tr>\n",
              "    <tr>\n",
              "      <th>...</th>\n",
              "      <td>...</td>\n",
              "    </tr>\n",
              "    <tr>\n",
              "      <th>94</th>\n",
              "      <td>83.48916274498238;48.38028579728175;1</td>\n",
              "    </tr>\n",
              "    <tr>\n",
              "      <th>95</th>\n",
              "      <td>42.2617008099817;87.10385094025457;1</td>\n",
              "    </tr>\n",
              "    <tr>\n",
              "      <th>96</th>\n",
              "      <td>99.31500880510394;68.77540947206617;1</td>\n",
              "    </tr>\n",
              "    <tr>\n",
              "      <th>97</th>\n",
              "      <td>55.34001756003703;64.9319380069486;1</td>\n",
              "    </tr>\n",
              "    <tr>\n",
              "      <th>98</th>\n",
              "      <td>74.77589300092767;89.52981289513276;1</td>\n",
              "    </tr>\n",
              "  </tbody>\n",
              "</table>\n",
              "<p>99 rows × 1 columns</p>\n",
              "</div>\n",
              "      <button class=\"colab-df-convert\" onclick=\"convertToInteractive('df-da0ef56c-466a-43de-9775-4028e8e72f75')\"\n",
              "              title=\"Convert this dataframe to an interactive table.\"\n",
              "              style=\"display:none;\">\n",
              "        \n",
              "  <svg xmlns=\"http://www.w3.org/2000/svg\" height=\"24px\"viewBox=\"0 0 24 24\"\n",
              "       width=\"24px\">\n",
              "    <path d=\"M0 0h24v24H0V0z\" fill=\"none\"/>\n",
              "    <path d=\"M18.56 5.44l.94 2.06.94-2.06 2.06-.94-2.06-.94-.94-2.06-.94 2.06-2.06.94zm-11 1L8.5 8.5l.94-2.06 2.06-.94-2.06-.94L8.5 2.5l-.94 2.06-2.06.94zm10 10l.94 2.06.94-2.06 2.06-.94-2.06-.94-.94-2.06-.94 2.06-2.06.94z\"/><path d=\"M17.41 7.96l-1.37-1.37c-.4-.4-.92-.59-1.43-.59-.52 0-1.04.2-1.43.59L10.3 9.45l-7.72 7.72c-.78.78-.78 2.05 0 2.83L4 21.41c.39.39.9.59 1.41.59.51 0 1.02-.2 1.41-.59l7.78-7.78 2.81-2.81c.8-.78.8-2.07 0-2.86zM5.41 20L4 18.59l7.72-7.72 1.47 1.35L5.41 20z\"/>\n",
              "  </svg>\n",
              "      </button>\n",
              "      \n",
              "  <style>\n",
              "    .colab-df-container {\n",
              "      display:flex;\n",
              "      flex-wrap:wrap;\n",
              "      gap: 12px;\n",
              "    }\n",
              "\n",
              "    .colab-df-convert {\n",
              "      background-color: #E8F0FE;\n",
              "      border: none;\n",
              "      border-radius: 50%;\n",
              "      cursor: pointer;\n",
              "      display: none;\n",
              "      fill: #1967D2;\n",
              "      height: 32px;\n",
              "      padding: 0 0 0 0;\n",
              "      width: 32px;\n",
              "    }\n",
              "\n",
              "    .colab-df-convert:hover {\n",
              "      background-color: #E2EBFA;\n",
              "      box-shadow: 0px 1px 2px rgba(60, 64, 67, 0.3), 0px 1px 3px 1px rgba(60, 64, 67, 0.15);\n",
              "      fill: #174EA6;\n",
              "    }\n",
              "\n",
              "    [theme=dark] .colab-df-convert {\n",
              "      background-color: #3B4455;\n",
              "      fill: #D2E3FC;\n",
              "    }\n",
              "\n",
              "    [theme=dark] .colab-df-convert:hover {\n",
              "      background-color: #434B5C;\n",
              "      box-shadow: 0px 1px 3px 1px rgba(0, 0, 0, 0.15);\n",
              "      filter: drop-shadow(0px 1px 2px rgba(0, 0, 0, 0.3));\n",
              "      fill: #FFFFFF;\n",
              "    }\n",
              "  </style>\n",
              "\n",
              "      <script>\n",
              "        const buttonEl =\n",
              "          document.querySelector('#df-da0ef56c-466a-43de-9775-4028e8e72f75 button.colab-df-convert');\n",
              "        buttonEl.style.display =\n",
              "          google.colab.kernel.accessAllowed ? 'block' : 'none';\n",
              "\n",
              "        async function convertToInteractive(key) {\n",
              "          const element = document.querySelector('#df-da0ef56c-466a-43de-9775-4028e8e72f75');\n",
              "          const dataTable =\n",
              "            await google.colab.kernel.invokeFunction('convertToInteractive',\n",
              "                                                     [key], {});\n",
              "          if (!dataTable) return;\n",
              "\n",
              "          const docLinkHtml = 'Like what you see? Visit the ' +\n",
              "            '<a target=\"_blank\" href=https://colab.research.google.com/notebooks/data_table.ipynb>data table notebook</a>'\n",
              "            + ' to learn more about interactive tables.';\n",
              "          element.innerHTML = '';\n",
              "          dataTable['output_type'] = 'display_data';\n",
              "          await google.colab.output.renderOutput(dataTable, element);\n",
              "          const docLink = document.createElement('div');\n",
              "          docLink.innerHTML = docLinkHtml;\n",
              "          element.appendChild(docLink);\n",
              "        }\n",
              "      </script>\n",
              "    </div>\n",
              "  </div>\n",
              "  "
            ]
          },
          "metadata": {},
          "execution_count": 34
        }
      ]
    },
    {
      "cell_type": "markdown",
      "source": [
        "# Самостоятельная\n"
      ],
      "metadata": {
        "id": "w61XmvlhyK8_"
      }
    },
    {
      "cell_type": "code",
      "source": [
        "from sklearn.model_selection import train_test_split\n",
        "from sklearn.linear_model import LinearRegression\n",
        "import sklearn as sk\n",
        "import pandas as pd\n",
        "import numpy as np\n",
        "import seaborn as sns\n",
        "\n",
        "data_file = pd.read_csv(\"/content/sample_data/7.0 student-mat.csv\")\n",
        "\n",
        "data_file = data_file.dropna(thresh = 0)\n",
        "data_file\n",
        "\n",
        "X={'one': data_file['G1'], 'two': data_file['G2']}\n",
        "X = pd.DataFrame(X)\n",
        "\n",
        "Y=data_file['G2']\n",
        "\n",
        "X=X.mean(axis=1)\n",
        "X_train, X_test, Y_train, Y_test = train_test_split(X, Y, test_size=0.3, random_state = 0)\n",
        "\n",
        "X_train=np.array(X_train).reshape((-1,1))\n",
        "model = LinearRegression()\n",
        "model.fit(X_train, Y_train)\n",
        "\n",
        "plt.scatter(X,Y)\n",
        "\n",
        "#plt.scatter(X,data_file['health'])\n",
        "\n",
        "#plt.scatter(X,data_file['reason'])\n",
        "\n",
        "pos={'sex': data_file['sex'], 'one': data_file['G1'], 'two': data_file['G2'], 'three': data_file['G3']}\n",
        "\n",
        "pos=pd.DataFrame(pos)\n",
        "pos = pos[pos.sex == 'F']\n",
        "\n",
        "posX={'one': pos['one'], 'two': pos['two']}\n",
        "posX = pd.DataFrame(posX)\n",
        "posXm=posX.mean(axis=1)\n",
        "posXm\n",
        "\n",
        "X1=np.array(posXm).reshape((-1,1))\n",
        "model = LinearRegression()\n",
        "model.fit(X1, pos['three'])\n",
        "\n",
        "import pickle\n",
        "with open(\"pickle_model\", \"wb\") as file:\n",
        "    pickle.dump(model, file)\n"
      ],
      "metadata": {
        "colab": {
          "base_uri": "https://localhost:8080/",
          "height": 430
        },
        "id": "XAApk-8SzMiD",
        "outputId": "50634295-b510-4778-8ca2-8dc64269ee99"
      },
      "execution_count": null,
      "outputs": [
        {
          "output_type": "display_data",
          "data": {
            "text/plain": [
              "<Figure size 640x480 with 1 Axes>"
            ],
            "image/png": "[encoded data removed]"
          },
          "metadata": {}
        }
      ]
    },
    {
      "cell_type": "markdown",
      "source": [
        "# University\n"
      ],
      "metadata": {
        "id": "8p-bMHegpfTu"
      }
    },
    {
      "cell_type": "code",
      "source": [
        "import pandas as pd\n",
        "import matplotlib.pyplot as plt\n",
        "import numpy as np\n",
        "data_file = pd.read_csv('/content/titanic.csv')\n",
        "\n",
        "print(data_file[:10])\n",
        "\n",
        "print(len(data_file.axes[0]))\n",
        "print(len(data_file.axes[1]))\n",
        "\n",
        "\n",
        "data_file.isna().sum()\n",
        "for  i in range(len(data_file.axes[1])):\n",
        "  print(type(data_file.iloc[:, i][0]))\n",
        "print(data_file.dtypes)\n",
        "\n",
        "\n",
        "data_file.drop(['PassengerId', 'Cabin'], axis=1)\n",
        "\n",
        "\n",
        "SrAge=round(data_file[\"Age\"].sum()/data_file[\"Age\"].count())\n",
        "print(\"--------\", SrAge)\n",
        "data_file[\"Age\"] = data_file[\"Age\"].fillna(SrAge)\n",
        "data_file[\"Age\"]\n",
        "\n",
        "\n",
        "data_file[\"Sex\"] = data_file[\"Sex\"].replace(\"male\", 0)\n",
        "data_file[\"Sex\"] = data_file[\"Sex\"].replace(\"female\", 1)\n",
        "u=list(data_file[\"Sex\"])\n",
        "lb_name=['male', 'female']\n",
        "val = [u.count(0), u.count(1)]\n",
        "plt.pie(x=val, labels=lb_name)\n"
      ],
      "metadata": {
        "id": "GSXQvUpCqCtB",
        "colab": {
          "base_uri": "https://localhost:8080/",
          "height": 1000
        },
        "outputId": "7744e1ce-b25f-49ea-d1b5-48c11d43246d"
      },
      "execution_count": null,
      "outputs": [
        {
          "output_type": "stream",
          "name": "stdout",
          "text": [
            "   PassengerId  Survived  Pclass  \\\n",
            "0            1         0       3   \n",
            "1            2         1       1   \n",
            "2            3         1       3   \n",
            "3            4         1       1   \n",
            "4            5         0       3   \n",
            "5            6         0       3   \n",
            "6            7         0       1   \n",
            "7            8         0       3   \n",
            "8            9         1       3   \n",
            "9           10         1       2   \n",
            "\n",
            "                                                Name     Sex   Age  SibSp  \\\n",
            "0                            Braund, Mr. Owen Harris    male  22.0      1   \n",
            "1  Cumings, Mrs. John Bradley (Florence Briggs Th...  female  38.0      1   \n",
            "2                             Heikkinen, Miss. Laina  female  26.0      0   \n",
            "3       Futrelle, Mrs. Jacques Heath (Lily May Peel)  female  35.0      1   \n",
            "4                           Allen, Mr. William Henry    male  35.0      0   \n",
            "5                                   Moran, Mr. James    male   NaN      0   \n",
            "6                            McCarthy, Mr. Timothy J    male  54.0      0   \n",
            "7                     Palsson, Master. Gosta Leonard    male   2.0      3   \n",
            "8  Johnson, Mrs. Oscar W (Elisabeth Vilhelmina Berg)  female  27.0      0   \n",
            "9                Nasser, Mrs. Nicholas (Adele Achem)  female  14.0      1   \n",
            "\n",
            "   Parch            Ticket     Fare Cabin Embarked  \n",
            "0      0         A/5 21171   7.2500   NaN        S  \n",
            "1      0          PC 17599  71.2833   C85        C  \n",
            "2      0  STON/O2. 3101282   7.9250   NaN        S  \n",
            "3      0            113803  53.1000  C123        S  \n",
            "4      0            373450   8.0500   NaN        S  \n",
            "5      0            330877   8.4583   NaN        Q  \n",
            "6      0             17463  51.8625   E46        S  \n",
            "7      1            349909  21.0750   NaN        S  \n",
            "8      2            347742  11.1333   NaN        S  \n",
            "9      0            237736  30.0708   NaN        C  \n",
            "891\n",
            "12\n",
            "<class 'numpy.int64'>\n",
            "<class 'numpy.int64'>\n",
            "<class 'numpy.int64'>\n",
            "<class 'str'>\n",
            "<class 'str'>\n",
            "<class 'numpy.float64'>\n",
            "<class 'numpy.int64'>\n",
            "<class 'numpy.int64'>\n",
            "<class 'str'>\n",
            "<class 'numpy.float64'>\n",
            "<class 'float'>\n",
            "<class 'str'>\n",
            "PassengerId      int64\n",
            "Survived         int64\n",
            "Pclass           int64\n",
            "Name            object\n",
            "Sex             object\n",
            "Age            float64\n",
            "SibSp            int64\n",
            "Parch            int64\n",
            "Ticket          object\n",
            "Fare           float64\n",
            "Cabin           object\n",
            "Embarked        object\n",
            "dtype: object\n",
            "-------- 30\n"
          ]
        },
        {
          "output_type": "execute_result",
          "data": {
            "text/plain": [
              "([<matplotlib.patches.Wedge at 0x7d1471bf3be0>,\n",
              "  <matplotlib.patches.Wedge at 0x7d1471bf3af0>],\n",
              " [Text(-0.4919454136803954, 0.9838646807152012, 'male'),\n",
              "  Text(0.4919455057964525, -0.9838646346559433, 'female')])"
            ]
          },
          "metadata": {},
          "execution_count": 14
        },
        {
          "output_type": "display_data",
          "data": {
            "text/plain": [
              "<Figure size 640x480 with 1 Axes>"
            ],
            "image/png": "[encoded data removed]"
          },
          "metadata": {}
        }
      ]
    },
    {
      "cell_type": "code",
      "source": [
        "import pandas as pd\n",
        "import numpy as np\n",
        "\n",
        "\n",
        "#data_file = pd.read_csv('/content/titanic.csv')\n",
        "data_file = data_file.loc[data_file[\"Survived\"] == 1]\n",
        "num_data_file = np.array(data_file)\n",
        "print(num_data_file)\n",
        "print(len(num_data_file))\n"
      ],
      "metadata": {
        "colab": {
          "base_uri": "https://localhost:8080/"
        },
        "id": "6DsdxLlCuCR4",
        "outputId": "ab1dd973-5ab6-46c8-d728-f9bdf55bb849"
      },
      "execution_count": null,
      "outputs": [
        {
          "output_type": "stream",
          "name": "stdout",
          "text": [
            "[[2 1 1 ... 71.2833 'C85' 'C']\n",
            " [3 1 3 ... 7.925 nan 'S']\n",
            " [4 1 1 ... 53.1 'C123' 'S']\n",
            " ...\n",
            " [881 1 2 ... 26.0 nan 'S']\n",
            " [888 1 1 ... 30.0 'B42' 'S']\n",
            " [890 1 1 ... 30.0 'C148' 'C']]\n",
            "342\n"
          ]
        }
      ]
    },
    {
      "cell_type": "code",
      "source": [
        "new_data = data_file[[\"Age\", \"Fare\"]]\n",
        "\n",
        "num_new_data = np.array(new_data)\n",
        "new_data"
      ],
      "metadata": {
        "colab": {
          "base_uri": "https://localhost:8080/",
          "height": 424
        },
        "id": "82u6heThz-gT",
        "outputId": "94538790-cd69-43ba-c27c-70dfb05aa09f"
      },
      "execution_count": null,
      "outputs": [
        {
          "output_type": "execute_result",
          "data": {
            "text/plain": [
              "      Age     Fare\n",
              "1    38.0  71.2833\n",
              "2    26.0   7.9250\n",
              "3    35.0  53.1000\n",
              "8    27.0  11.1333\n",
              "9    14.0  30.0708\n",
              "..    ...      ...\n",
              "875  15.0   7.2250\n",
              "879  56.0  83.1583\n",
              "880  25.0  26.0000\n",
              "887  19.0  30.0000\n",
              "889  26.0  30.0000\n",
              "\n",
              "[342 rows x 2 columns]"
            ],
            "text/html": [
              "\n",
              "  <div id=\"df-06f809a7-ab58-4092-8723-d78b12c25055\" class=\"colab-df-container\">\n",
              "    <div>\n",
              "<style scoped>\n",
              "    .dataframe tbody tr th:only-of-type {\n",
              "        vertical-align: middle;\n",
              "    }\n",
              "\n",
              "    .dataframe tbody tr th {\n",
              "        vertical-align: top;\n",
              "    }\n",
              "\n",
              "    .dataframe thead th {\n",
              "        text-align: right;\n",
              "    }\n",
              "</style>\n",
              "<table border=\"1\" class=\"dataframe\">\n",
              "  <thead>\n",
              "    <tr style=\"text-align: right;\">\n",
              "      <th></th>\n",
              "      <th>Age</th>\n",
              "      <th>Fare</th>\n",
              "    </tr>\n",
              "  </thead>\n",
              "  <tbody>\n",
              "    <tr>\n",
              "      <th>1</th>\n",
              "      <td>38.0</td>\n",
              "      <td>71.2833</td>\n",
              "    </tr>\n",
              "    <tr>\n",
              "      <th>2</th>\n",
              "      <td>26.0</td>\n",
              "      <td>7.9250</td>\n",
              "    </tr>\n",
              "    <tr>\n",
              "      <th>3</th>\n",
              "      <td>35.0</td>\n",
              "      <td>53.1000</td>\n",
              "    </tr>\n",
              "    <tr>\n",
              "      <th>8</th>\n",
              "      <td>27.0</td>\n",
              "      <td>11.1333</td>\n",
              "    </tr>\n",
              "    <tr>\n",
              "      <th>9</th>\n",
              "      <td>14.0</td>\n",
              "      <td>30.0708</td>\n",
              "    </tr>\n",
              "    <tr>\n",
              "      <th>...</th>\n",
              "      <td>...</td>\n",
              "      <td>...</td>\n",
              "    </tr>\n",
              "    <tr>\n",
              "      <th>875</th>\n",
              "      <td>15.0</td>\n",
              "      <td>7.2250</td>\n",
              "    </tr>\n",
              "    <tr>\n",
              "      <th>879</th>\n",
              "      <td>56.0</td>\n",
              "      <td>83.1583</td>\n",
              "    </tr>\n",
              "    <tr>\n",
              "      <th>880</th>\n",
              "      <td>25.0</td>\n",
              "      <td>26.0000</td>\n",
              "    </tr>\n",
              "    <tr>\n",
              "      <th>887</th>\n",
              "      <td>19.0</td>\n",
              "      <td>30.0000</td>\n",
              "    </tr>\n",
              "    <tr>\n",
              "      <th>889</th>\n",
              "      <td>26.0</td>\n",
              "      <td>30.0000</td>\n",
              "    </tr>\n",
              "  </tbody>\n",
              "</table>\n",
              "<p>342 rows × 2 columns</p>\n",
              "</div>\n",
              "    <div class=\"colab-df-buttons\">\n",
              "\n",
              "  <div class=\"colab-df-container\">\n",
              "    <button class=\"colab-df-convert\" onclick=\"convertToInteractive('df-06f809a7-ab58-4092-8723-d78b12c25055')\"\n",
              "            title=\"Convert this dataframe to an interactive table.\"\n",
              "            style=\"display:none;\">\n",
              "\n",
              "  <svg xmlns=\"http://www.w3.org/2000/svg\" height=\"24px\" viewBox=\"0 -960 960 960\">\n",
              "    <path d=\"M120-120v-720h720v720H120Zm60-500h600v-160H180v160Zm220 220h160v-160H400v160Zm0 220h160v-160H400v160ZM180-400h160v-160H180v160Zm440 0h160v-160H620v160ZM180-180h160v-160H180v160Zm440 0h160v-160H620v160Z\"/>\n",
              "  </svg>\n",
              "    </button>\n",
              "\n",
              "  <style>\n",
              "    .colab-df-container {\n",
              "      display:flex;\n",
              "      gap: 12px;\n",
              "    }\n",
              "\n",
              "    .colab-df-convert {\n",
              "      background-color: #E8F0FE;\n",
              "      border: none;\n",
              "      border-radius: 50%;\n",
              "      cursor: pointer;\n",
              "      display: none;\n",
              "      fill: #1967D2;\n",
              "      height: 32px;\n",
              "      padding: 0 0 0 0;\n",
              "      width: 32px;\n",
              "    }\n",
              "\n",
              "    .colab-df-convert:hover {\n",
              "      background-color: #E2EBFA;\n",
              "      box-shadow: 0px 1px 2px rgba(60, 64, 67, 0.3), 0px 1px 3px 1px rgba(60, 64, 67, 0.15);\n",
              "      fill: #174EA6;\n",
              "    }\n",
              "\n",
              "    .colab-df-buttons div {\n",
              "      margin-bottom: 4px;\n",
              "    }\n",
              "\n",
              "    [theme=dark] .colab-df-convert {\n",
              "      background-color: #3B4455;\n",
              "      fill: #D2E3FC;\n",
              "    }\n",
              "\n",
              "    [theme=dark] .colab-df-convert:hover {\n",
              "      background-color: #434B5C;\n",
              "      box-shadow: 0px 1px 3px 1px rgba(0, 0, 0, 0.15);\n",
              "      filter: drop-shadow(0px 1px 2px rgba(0, 0, 0, 0.3));\n",
              "      fill: #FFFFFF;\n",
              "    }\n",
              "  </style>\n",
              "\n",
              "    <script>\n",
              "      const buttonEl =\n",
              "        document.querySelector('#df-06f809a7-ab58-4092-8723-d78b12c25055 button.colab-df-convert');\n",
              "      buttonEl.style.display =\n",
              "        google.colab.kernel.accessAllowed ? 'block' : 'none';\n",
              "\n",
              "      async function convertToInteractive(key) {\n",
              "        const element = document.querySelector('#df-06f809a7-ab58-4092-8723-d78b12c25055');\n",
              "        const dataTable =\n",
              "          await google.colab.kernel.invokeFunction('convertToInteractive',\n",
              "                                                    [key], {});\n",
              "        if (!dataTable) return;\n",
              "\n",
              "        const docLinkHtml = 'Like what you see? Visit the ' +\n",
              "          '<a target=\"_blank\" href=https://colab.research.google.com/notebooks/data_table.ipynb>data table notebook</a>'\n",
              "          + ' to learn more about interactive tables.';\n",
              "        element.innerHTML = '';\n",
              "        dataTable['output_type'] = 'display_data';\n",
              "        await google.colab.output.renderOutput(dataTable, element);\n",
              "        const docLink = document.createElement('div');\n",
              "        docLink.innerHTML = docLinkHtml;\n",
              "        element.appendChild(docLink);\n",
              "      }\n",
              "    </script>\n",
              "  </div>\n",
              "\n",
              "\n",
              "<div id=\"df-88608206-b9e5-488c-8356-f56bfbb43562\">\n",
              "  <button class=\"colab-df-quickchart\" onclick=\"quickchart('df-88608206-b9e5-488c-8356-f56bfbb43562')\"\n",
              "            title=\"Suggest charts\"\n",
              "            style=\"display:none;\">\n",
              "\n",
              "<svg xmlns=\"http://www.w3.org/2000/svg\" height=\"24px\"viewBox=\"0 0 24 24\"\n",
              "     width=\"24px\">\n",
              "    <g>\n",
              "        <path d=\"M19 3H5c-1.1 0-2 .9-2 2v14c0 1.1.9 2 2 2h14c1.1 0 2-.9 2-2V5c0-1.1-.9-2-2-2zM9 17H7v-7h2v7zm4 0h-2V7h2v10zm4 0h-2v-4h2v4z\"/>\n",
              "    </g>\n",
              "</svg>\n",
              "  </button>\n",
              "\n",
              "<style>\n",
              "  .colab-df-quickchart {\n",
              "      --bg-color: #E8F0FE;\n",
              "      --fill-color: #1967D2;\n",
              "      --hover-bg-color: #E2EBFA;\n",
              "      --hover-fill-color: #174EA6;\n",
              "      --disabled-fill-color: #AAA;\n",
              "      --disabled-bg-color: #DDD;\n",
              "  }\n",
              "\n",
              "  [theme=dark] .colab-df-quickchart {\n",
              "      --bg-color: #3B4455;\n",
              "      --fill-color: #D2E3FC;\n",
              "      --hover-bg-color: #434B5C;\n",
              "      --hover-fill-color: #FFFFFF;\n",
              "      --disabled-bg-color: #3B4455;\n",
              "      --disabled-fill-color: #666;\n",
              "  }\n",
              "\n",
              "  .colab-df-quickchart {\n",
              "    background-color: var(--bg-color);\n",
              "    border: none;\n",
              "    border-radius: 50%;\n",
              "    cursor: pointer;\n",
              "    display: none;\n",
              "    fill: var(--fill-color);\n",
              "    height: 32px;\n",
              "    padding: 0;\n",
              "    width: 32px;\n",
              "  }\n",
              "\n",
              "  .colab-df-quickchart:hover {\n",
              "    background-color: var(--hover-bg-color);\n",
              "    box-shadow: 0 1px 2px rgba(60, 64, 67, 0.3), 0 1px 3px 1px rgba(60, 64, 67, 0.15);\n",
              "    fill: var(--button-hover-fill-color);\n",
              "  }\n",
              "\n",
              "  .colab-df-quickchart-complete:disabled,\n",
              "  .colab-df-quickchart-complete:disabled:hover {\n",
              "    background-color: var(--disabled-bg-color);\n",
              "    fill: var(--disabled-fill-color);\n",
              "    box-shadow: none;\n",
              "  }\n",
              "\n",
              "  .colab-df-spinner {\n",
              "    border: 2px solid var(--fill-color);\n",
              "    border-color: transparent;\n",
              "    border-bottom-color: var(--fill-color);\n",
              "    animation:\n",
              "      spin 1s steps(1) infinite;\n",
              "  }\n",
              "\n",
              "  @keyframes spin {\n",
              "    0% {\n",
              "      border-color: transparent;\n",
              "      border-bottom-color: var(--fill-color);\n",
              "      border-left-color: var(--fill-color);\n",
              "    }\n",
              "    20% {\n",
              "      border-color: transparent;\n",
              "      border-left-color: var(--fill-color);\n",
              "      border-top-color: var(--fill-color);\n",
              "    }\n",
              "    30% {\n",
              "      border-color: transparent;\n",
              "      border-left-color: var(--fill-color);\n",
              "      border-top-color: var(--fill-color);\n",
              "      border-right-color: var(--fill-color);\n",
              "    }\n",
              "    40% {\n",
              "      border-color: transparent;\n",
              "      border-right-color: var(--fill-color);\n",
              "      border-top-color: var(--fill-color);\n",
              "    }\n",
              "    60% {\n",
              "      border-color: transparent;\n",
              "      border-right-color: var(--fill-color);\n",
              "    }\n",
              "    80% {\n",
              "      border-color: transparent;\n",
              "      border-right-color: var(--fill-color);\n",
              "      border-bottom-color: var(--fill-color);\n",
              "    }\n",
              "    90% {\n",
              "      border-color: transparent;\n",
              "      border-bottom-color: var(--fill-color);\n",
              "    }\n",
              "  }\n",
              "</style>\n",
              "\n",
              "  <script>\n",
              "    async function quickchart(key) {\n",
              "      const quickchartButtonEl =\n",
              "        document.querySelector('#' + key + ' button');\n",
              "      quickchartButtonEl.disabled = true;  // To prevent multiple clicks.\n",
              "      quickchartButtonEl.classList.add('colab-df-spinner');\n",
              "      try {\n",
              "        const charts = await google.colab.kernel.invokeFunction(\n",
              "            'suggestCharts', [key], {});\n",
              "      } catch (error) {\n",
              "        console.error('Error during call to suggestCharts:', error);\n",
              "      }\n",
              "      quickchartButtonEl.classList.remove('colab-df-spinner');\n",
              "      quickchartButtonEl.classList.add('colab-df-quickchart-complete');\n",
              "    }\n",
              "    (() => {\n",
              "      let quickchartButtonEl =\n",
              "        document.querySelector('#df-88608206-b9e5-488c-8356-f56bfbb43562 button');\n",
              "      quickchartButtonEl.style.display =\n",
              "        google.colab.kernel.accessAllowed ? 'block' : 'none';\n",
              "    })();\n",
              "  </script>\n",
              "</div>\n",
              "    </div>\n",
              "  </div>\n"
            ],
            "application/vnd.google.colaboratory.intrinsic+json": {
              "type": "dataframe",
              "variable_name": "new_data",
              "summary": "{\n  \"name\": \"new_data\",\n  \"rows\": 342,\n  \"fields\": [\n    {\n      \"column\": \"Age\",\n      \"properties\": {\n        \"dtype\": \"number\",\n        \"std\": 13.776750960376404,\n        \"min\": 0.42,\n        \"max\": 80.0,\n        \"num_unique_values\": 65,\n        \"samples\": [\n          62.0,\n          51.0,\n          38.0\n        ],\n        \"semantic_type\": \"\",\n        \"description\": \"\"\n      }\n    },\n    {\n      \"column\": \"Fare\",\n      \"properties\": {\n        \"dtype\": \"number\",\n        \"std\": 66.59699811829475,\n        \"min\": 0.0,\n        \"max\": 512.3292,\n        \"num_unique_values\": 153,\n        \"samples\": [\n          134.5,\n          133.65,\n          12.0\n        ],\n        \"semantic_type\": \"\",\n        \"description\": \"\"\n      }\n    }\n  ]\n}"
            }
          },
          "metadata": {},
          "execution_count": 16
        }
      ]
    },
    {
      "cell_type": "code",
      "source": [
        "new_data = new_data.sort_values(by='Age', ascending=True)\n",
        "print(new_data.iloc[0])\n",
        "print(new_data.iloc[-1])"
      ],
      "metadata": {
        "colab": {
          "base_uri": "https://localhost:8080/"
        },
        "id": "NAChspIK5E3k",
        "outputId": "82502fe4-83e2-4c44-cb6b-a6035d10558e"
      },
      "execution_count": null,
      "outputs": [
        {
          "output_type": "stream",
          "name": "stdout",
          "text": [
            "Age     0.4200\n",
            "Fare    8.5167\n",
            "Name: 803, dtype: float64\n",
            "Age     80.0\n",
            "Fare    30.0\n",
            "Name: 630, dtype: float64\n"
          ]
        }
      ]
    },
    {
      "cell_type": "code",
      "source": [
        "ss_data= data_file[[\"SibSp\",\"Parch\"]]\n",
        "np.array(ss_data)\n",
        "print(data_file['SibSp'].sum())\n",
        "print(data_file[data_file['SibSp'] == data_file['SibSp'].max()])"
      ],
      "metadata": {
        "colab": {
          "base_uri": "https://localhost:8080/"
        },
        "id": "vmTqCjEp7jU3",
        "outputId": "492b1f05-4143-4cb0-e486-278b374e2734"
      },
      "execution_count": null,
      "outputs": [
        {
          "output_type": "stream",
          "name": "stdout",
          "text": [
            "162\n",
            "     PassengerId  Survived  Pclass                               Name  Sex  \\\n",
            "68            69         1       3    Andersson, Miss. Erna Alexandra    1   \n",
            "233          234         1       3     Asplund, Miss. Lillian Gertrud    1   \n",
            "261          262         1       3  Asplund, Master. Edvin Rojj Felix    0   \n",
            "\n",
            "      Age  SibSp  Parch   Ticket     Fare Cabin Embarked  \n",
            "68   17.0      4      2  3101281   7.9250   NaN        S  \n",
            "233   5.0      4      2   347077  31.3875   NaN        S  \n",
            "261   3.0      4      2   347077  31.3875   NaN        S  \n"
          ]
        }
      ]
    }
  ]
}
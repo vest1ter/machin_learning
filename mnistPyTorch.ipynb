{
  "nbformat": 4,
  "nbformat_minor": 0,
  "metadata": {
    "colab": {
      "provenance": [],
      "gpuType": "T4",
      "authorship_tag": "ABX9TyMX7eNDZT+AnRY/BiB785Bj",
      "include_colab_link": true
    },
    "kernelspec": {
      "name": "python3",
      "display_name": "Python 3"
    },
    "language_info": {
      "name": "python"
    },
    "accelerator": "GPU"
  },
  "cells": [
    {
      "cell_type": "markdown",
      "metadata": {
        "id": "view-in-github",
        "colab_type": "text"
      },
      "source": [
        "<a href=\"https://colab.research.google.com/github/vest1ter/machin_learning/blob/master/mnistPyTorch.ipynb\" target=\"_parent\"><img src=\"https://colab.research.google.com/assets/colab-badge.svg\" alt=\"Open In Colab\"/></a>"
      ]
    },
    {
      "cell_type": "code",
      "execution_count": 100,
      "metadata": {
        "id": "ETbEIywA6RKc"
      },
      "outputs": [],
      "source": [
        "import torch\n",
        "import torch.nn as nn\n",
        "import matplotlib.pyplot as plt\n",
        "import cv2\n",
        "import os\n",
        "import torch.nn.functional as F\n",
        "import torchvision as tv\n",
        "import numpy as np\n",
        "\n",
        "from tqdm import tqdm"
      ]
    },
    {
      "cell_type": "code",
      "source": [
        "trans = tv.transforms.Compose([tv.transforms.ToTensor()])"
      ],
      "metadata": {
        "id": "CAY1ooZlA6MV"
      },
      "execution_count": 6,
      "outputs": []
    },
    {
      "cell_type": "code",
      "source": [
        "ds_mnist = tv.datasets.MNIST(\"./datasets\", download = True, transform=trans)"
      ],
      "metadata": {
        "id": "YFL2B-je_v6x"
      },
      "execution_count": 7,
      "outputs": []
    },
    {
      "cell_type": "code",
      "source": [
        "tes = (ds_mnist[13][0].numpy()[0])\n",
        "\n",
        "tes = torch.from_numpy(tes)\n",
        "plt.imshow(tes)"
      ],
      "metadata": {
        "colab": {
          "base_uri": "https://localhost:8080/",
          "height": 447
        },
        "id": "sdPADkjxAbU3",
        "outputId": "f48c5119-743c-44d6-a0ae-1578e1170f5c"
      },
      "execution_count": 152,
      "outputs": [
        {
          "output_type": "execute_result",
          "data": {
            "text/plain": [
              "<matplotlib.image.AxesImage at 0x7b94de79f8b0>"
            ]
          },
          "metadata": {},
          "execution_count": 152
        },
        {
          "output_type": "display_data",
          "data": {
            "text/plain": [
              "<Figure size 640x480 with 1 Axes>"
            ],
            "image/png": "[encoded data removed]"
          },
          "metadata": {}
        }
      ]
    },
    {
      "cell_type": "code",
      "source": [
        "BATCH = 16\n",
        "dataloader = torch.utils.data.DataLoader(ds_mnist, batch_size = BATCH, shuffle = True, drop_last=True)"
      ],
      "metadata": {
        "id": "HRXfieIFSAmH"
      },
      "execution_count": 24,
      "outputs": []
    },
    {
      "cell_type": "code",
      "source": [
        "for img, label in dataloader:\n",
        "  print(img.shape)\n",
        "  print(label.shape)\n",
        "  break"
      ],
      "metadata": {
        "colab": {
          "base_uri": "https://localhost:8080/"
        },
        "id": "Zd2F6bDaT3Ui",
        "outputId": "fde8cd4c-282b-4889-9ec6-37835ed00b32"
      },
      "execution_count": 49,
      "outputs": [
        {
          "output_type": "stream",
          "name": "stdout",
          "text": [
            "torch.Size([16, 1, 28, 28])\n",
            "torch.Size([16])\n"
          ]
        }
      ]
    },
    {
      "cell_type": "code",
      "source": [
        "class Numbers(nn.Module):\n",
        "  def __init__(self):\n",
        "    super().__init__()\n",
        "    self.flat = nn.Flatten()\n",
        "    self.linear1 = nn.Linear(28*28, 100)\n",
        "    self.linear2 = nn.Linear(100, 10)\n",
        "    self.b = nn.Parameter(torch.ones(10), requires_grad=True)\n",
        "    self.activate = nn.ReLU()\n",
        "\n",
        "\n",
        "  def forward(self, x):\n",
        "    out = self.flat(x)\n",
        "    out = self.linear1(out)\n",
        "    out = self.activate(out)\n",
        "    out = self.linear2(out)\n",
        "    out = self.activate(out)\n",
        "    out = out + self.b\n",
        "\n",
        "    return out"
      ],
      "metadata": {
        "id": "QY57qpMcnR-M"
      },
      "execution_count": 157,
      "outputs": []
    },
    {
      "cell_type": "code",
      "source": [
        "model = Numbers()"
      ],
      "metadata": {
        "id": "v1gV-23dtw2h"
      },
      "execution_count": 158,
      "outputs": []
    },
    {
      "cell_type": "code",
      "source": [
        "loss_fn = nn.CrossEntropyLoss()"
      ],
      "metadata": {
        "id": "b8rLd977s0n2"
      },
      "execution_count": 159,
      "outputs": []
    },
    {
      "cell_type": "code",
      "source": [],
      "metadata": {
        "id": "GKhS9PZ01Xzr"
      },
      "execution_count": null,
      "outputs": []
    },
    {
      "cell_type": "code",
      "source": [
        "optimazer = torch.optim.SGD(model.parameters(), lr = 1e-3, momentum = 0.9)"
      ],
      "metadata": {
        "id": "7Lj6knwstk3Q"
      },
      "execution_count": 160,
      "outputs": []
    },
    {
      "cell_type": "code",
      "source": [
        "label.argmax()"
      ],
      "metadata": {
        "colab": {
          "base_uri": "https://localhost:8080/"
        },
        "id": "qRZPWg9A7MLA",
        "outputId": "1b0520da-088a-40d3-90f7-6c051435cb5f"
      },
      "execution_count": 161,
      "outputs": [
        {
          "output_type": "execute_result",
          "data": {
            "text/plain": [
              "tensor(7)"
            ]
          },
          "metadata": {},
          "execution_count": 161
        }
      ]
    },
    {
      "cell_type": "code",
      "source": [
        "def accuracy(pred, label):\n",
        "  answer = F.softmax(pred.detach()).numpy().argmax(1) == label.numpy().argmax(1)\n",
        "  return answer.mean()"
      ],
      "metadata": {
        "id": "IPaS2jo86bW4"
      },
      "execution_count": 162,
      "outputs": []
    },
    {
      "cell_type": "code",
      "source": [
        "epochs =1#\n",
        "\n",
        "for epoch in range(epochs):#\n",
        "  loss_val=0 #\n",
        "  acc_val = 0#\n",
        "  for img, label in tqdm(dataloader):\n",
        "    optimazer.zero_grad()\n",
        "    label = F.one_hot(label, 10).float() #конвертитруем цифры в вектор вероятности\n",
        "    pred = model(img)\n",
        "\n",
        "    loss = loss_fn(pred, label)\n",
        "\n",
        "    loss.backward()\n",
        "\n",
        "    loss_val +=loss.item()\n",
        "    acc_current = accuracy(pred, label)\n",
        "    acc_val +=acc_current\n",
        "\n",
        "    optimazer.step()\n",
        "  print(loss_val/len(dataloader))\n",
        "  print(acc_val/len(dataloader))"
      ],
      "metadata": {
        "colab": {
          "base_uri": "https://localhost:8080/"
        },
        "id": "PFpMj28suKMn",
        "outputId": "038db21c-85db-4870-a6fa-c69bd26b75fc"
      },
      "execution_count": 163,
      "outputs": [
        {
          "output_type": "stream",
          "name": "stderr",
          "text": [
            "  0%|          | 0/3750 [00:00<?, ?it/s]<ipython-input-162-0dbe26ece616>:2: UserWarning: Implicit dimension choice for softmax has been deprecated. Change the call to include dim=X as an argument.\n",
            "  answer = F.softmax(pred.detach()).numpy().argmax(1) == label.numpy().argmax(1)\n",
            "100%|██████████| 3750/3750 [00:11<00:00, 334.57it/s]"
          ]
        },
        {
          "output_type": "stream",
          "name": "stdout",
          "text": [
            "0.9713817394137383\n",
            "0.7096333333333333\n"
          ]
        },
        {
          "output_type": "stream",
          "name": "stderr",
          "text": [
            "\n"
          ]
        }
      ]
    },
    {
      "cell_type": "code",
      "source": [
        "accuracy(pred, label)"
      ],
      "metadata": {
        "colab": {
          "base_uri": "https://localhost:8080/"
        },
        "id": "-TyliNss7hiD",
        "outputId": "28a2b19f-2095-4ab3-a319-d344cc2c458f"
      },
      "execution_count": 164,
      "outputs": [
        {
          "output_type": "stream",
          "name": "stderr",
          "text": [
            "<ipython-input-162-0dbe26ece616>:2: UserWarning: Implicit dimension choice for softmax has been deprecated. Change the call to include dim=X as an argument.\n",
            "  answer = F.softmax(pred.detach()).numpy().argmax(1) == label.numpy().argmax(1)\n"
          ]
        },
        {
          "output_type": "execute_result",
          "data": {
            "text/plain": [
              "0.6875"
            ]
          },
          "metadata": {},
          "execution_count": 164
        }
      ]
    },
    {
      "cell_type": "code",
      "source": [
        "img = cv2.imread('/content/testimg.png', cv2.IMREAD_GRAYSCALE)\n",
        "img = np.expand_dims(img, axis = 0)\n",
        "img = np.expand_dims(img, axis = 0)\n",
        "img =img.astype(np.float32)/255.0\n",
        "\n",
        "img = torch.from_numpy(img)"
      ],
      "metadata": {
        "id": "Cc5JNUzk2UyJ"
      },
      "execution_count": 165,
      "outputs": []
    },
    {
      "cell_type": "code",
      "source": [
        "nash_pred = model(img)\n",
        "F.softmax(nash_pred).detach().numpy().argmax()"
      ],
      "metadata": {
        "colab": {
          "base_uri": "https://localhost:8080/"
        },
        "id": "10RzZ4rX2n6U",
        "outputId": "e49d412a-10bf-4f84-bbaf-6ee698a1513a"
      },
      "execution_count": 167,
      "outputs": [
        {
          "output_type": "stream",
          "name": "stderr",
          "text": [
            "<ipython-input-167-8d64c7f95c21>:2: UserWarning: Implicit dimension choice for softmax has been deprecated. Change the call to include dim=X as an argument.\n",
            "  F.softmax(nash_pred).detach().numpy().argmax()\n"
          ]
        },
        {
          "output_type": "execute_result",
          "data": {
            "text/plain": [
              "9"
            ]
          },
          "metadata": {},
          "execution_count": 167
        }
      ]
    },
    {
      "cell_type": "code",
      "source": [
        "img_test = ds_mnist[12][0].numpy()\n",
        "img_test = np.expand_dims(img_test, axis = 0)\n",
        "img_test = torch.from_numpy(img_test)"
      ],
      "metadata": {
        "id": "1Ewj0102-hb5"
      },
      "execution_count": 170,
      "outputs": []
    },
    {
      "cell_type": "code",
      "source": [
        "nash_pred2 = model(img_test)\n",
        "F.softmax(nash_pred2).detach().numpy().argmax()"
      ],
      "metadata": {
        "colab": {
          "base_uri": "https://localhost:8080/"
        },
        "id": "CXhi6AqL-v6z",
        "outputId": "b49d1ec2-336f-4295-8fc8-9241e093197b"
      },
      "execution_count": 171,
      "outputs": [
        {
          "output_type": "stream",
          "name": "stderr",
          "text": [
            "<ipython-input-171-e0d0e65e9407>:2: UserWarning: Implicit dimension choice for softmax has been deprecated. Change the call to include dim=X as an argument.\n",
            "  F.softmax(nash_pred2).detach().numpy().argmax()\n"
          ]
        },
        {
          "output_type": "execute_result",
          "data": {
            "text/plain": [
              "3"
            ]
          },
          "metadata": {},
          "execution_count": 171
        }
      ]
    }
  ]
}
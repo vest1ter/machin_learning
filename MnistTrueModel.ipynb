{
  "nbformat": 4,
  "nbformat_minor": 0,
  "metadata": {
    "colab": {
      "provenance": [],
      "authorship_tag": "ABX9TyOdBQTBTmxzYBiNxQHbtLbt",
      "include_colab_link": true
    },
    "kernelspec": {
      "name": "python3",
      "display_name": "Python 3"
    },
    "language_info": {
      "name": "python"
    }
  },
  "cells": [
    {
      "cell_type": "markdown",
      "metadata": {
        "id": "view-in-github",
        "colab_type": "text"
      },
      "source": [
        "<a href=\"https://colab.research.google.com/github/vest1ter/machin_learning/blob/master/MnistTrueModel.ipynb\" target=\"_parent\"><img src=\"https://colab.research.google.com/assets/colab-badge.svg\" alt=\"Open In Colab\"/></a>"
      ]
    },
    {
      "cell_type": "code",
      "execution_count": 45,
      "metadata": {
        "id": "nB73F8YCs3ld"
      },
      "outputs": [],
      "source": [
        "import torch\n",
        "from torchvision.datasets import MNIST\n",
        "import torchvision as tv\n",
        "import matplotlib.pyplot as plt\n",
        "import torch.nn as nn\n",
        "#%matplotlib inline\n",
        "import torchvision.transforms as transforms\n",
        "from torch.utils.data import random_split\n",
        "from torch.utils.data import DataLoader\n",
        "import torch.nn.functional as F\n",
        "import cv2\n",
        "import numpy as np\n",
        "from tqdm import tqdm"
      ]
    },
    {
      "cell_type": "code",
      "source": [
        "trans = tv.transforms.Compose([\n",
        "    tv.transforms.ToTensor(),\n",
        "    tv.transforms.Normalize((0.5,), (0.5,))\n",
        "])\n",
        "\n",
        "ds_mnist = tv.datasets.MNIST(\"./datasets\", download = True, transform=trans)\n",
        "\n",
        "print(len(ds_mnist))\n"
      ],
      "metadata": {
        "colab": {
          "base_uri": "https://localhost:8080/"
        },
        "id": "befOvJC8tADD",
        "outputId": "a5847ae3-bfda-4263-be5f-fbc75ec0c637"
      },
      "execution_count": 26,
      "outputs": [
        {
          "output_type": "stream",
          "name": "stdout",
          "text": [
            "60000\n"
          ]
        }
      ]
    },
    {
      "cell_type": "code",
      "source": [
        "tes = (ds_mnist[13][0].numpy()[0])\n",
        "\n",
        "tes = torch.from_numpy(tes)\n",
        "plt.imshow(tes)"
      ],
      "metadata": {
        "colab": {
          "base_uri": "https://localhost:8080/",
          "height": 447
        },
        "id": "8XLj7b58tI5z",
        "outputId": "4a91c46b-94a3-4c59-b7fa-9ff768e4952d"
      },
      "execution_count": 27,
      "outputs": [
        {
          "output_type": "execute_result",
          "data": {
            "text/plain": [
              "<matplotlib.image.AxesImage at 0x7ed157593d00>"
            ]
          },
          "metadata": {},
          "execution_count": 27
        },
        {
          "output_type": "display_data",
          "data": {
            "text/plain": [
              "<Figure size 640x480 with 1 Axes>"
            ],
            "image/png": "[encoded data removed]"
          },
          "metadata": {}
        }
      ]
    },
    {
      "cell_type": "code",
      "source": [
        "train_data, test_data = random_split(ds_mnist, [50000, 10000])\n",
        "\n",
        "\n",
        "DEVICE = \"cpu\""
      ],
      "metadata": {
        "id": "o21nq65MtYez"
      },
      "execution_count": 28,
      "outputs": []
    },
    {
      "cell_type": "code",
      "source": [
        "batch_size = 128\n",
        "train_loader = DataLoader(train_data, batch_size=batch_size, shuffle = True)\n",
        "test_loader = DataLoader(test_data, batch_size=batch_size, shuffle = False)"
      ],
      "metadata": {
        "id": "eNLmDIDst9ZH"
      },
      "execution_count": 29,
      "outputs": []
    },
    {
      "cell_type": "code",
      "source": [
        "for images, labels in train_loader:\n",
        "    print(labels.shape)\n",
        "    print(images.shape)\n",
        "    break"
      ],
      "metadata": {
        "colab": {
          "base_uri": "https://localhost:8080/"
        },
        "id": "ibHq5YiFvct1",
        "outputId": "319bed97-2f23-4db7-d763-aaa615582566"
      },
      "execution_count": 30,
      "outputs": [
        {
          "output_type": "stream",
          "name": "stdout",
          "text": [
            "torch.Size([128])\n",
            "torch.Size([128, 1, 28, 28])\n"
          ]
        }
      ]
    },
    {
      "cell_type": "code",
      "source": [
        "class Perceptron(nn.Module):\n",
        "  def __init__(self):\n",
        "    super(Perceptron, self).__init__()\n",
        "    self.l1 = nn.Linear(784, 128)\n",
        "    self.l2 = nn.Linear(128, 10)\n",
        "\n",
        "  def forward(self, x):\n",
        "    x = x.view(-1, 784)\n",
        "    x = F.relu(self.l1(x))\n",
        "    x = self.l2(x)\n",
        "    return F.log_softmax(x, dim=-1)"
      ],
      "metadata": {
        "id": "ISyW4Nb1wRbi"
      },
      "execution_count": 31,
      "outputs": []
    },
    {
      "cell_type": "code",
      "source": [
        "model = Perceptron()\n",
        "optimazer = torch.optim.Adam(model.parameters(), lr=1e-4)\n",
        "loss = nn.CrossEntropyLoss()"
      ],
      "metadata": {
        "id": "FuxcBbC5wfcc"
      },
      "execution_count": 38,
      "outputs": []
    },
    {
      "cell_type": "code",
      "source": [
        "epoch = 10\n",
        "\n",
        "for epoch in range(epoch):\n",
        "  loss_val=0\n",
        "  acc_val = 0\n",
        "  for img, label in tqdm(train_loader):\n",
        "    img, label = img.float().to(DEVICE), label.long().to(DEVICE)\n",
        "    optimazer.zero_grad()\n",
        "    #label = F.one_hot(label, 10).float()\n",
        "\n",
        "    pred = model(img)\n",
        "    loss_fn = loss(pred, label)\n",
        "    loss_fn.backward()\n",
        "    optimazer.step()\n",
        "\n",
        "  model.eval()\n",
        "  for img, label in tqdm(test_loader):\n",
        "    img, label = img.float().to(DEVICE), label.long().to(DEVICE)\n",
        "    pred = model(img)\n",
        "    loss_val += loss(pred, label)\n",
        "  loss_val /= len(test_loader.dataset)\n",
        "  print(f'epoch: {epoch};  loss:{round(loss_fn.item(), 4)}\\t val_loss: {loss_val}')\n"
      ],
      "metadata": {
        "colab": {
          "base_uri": "https://localhost:8080/"
        },
        "id": "1msbfEWYw1B1",
        "outputId": "87ef8d6c-c7bb-47ba-d2b7-e746fa392dc0"
      },
      "execution_count": 41,
      "outputs": [
        {
          "output_type": "stream",
          "name": "stderr",
          "text": [
            "100%|██████████| 391/391 [00:17<00:00, 22.56it/s]\n",
            "100%|██████████| 79/79 [00:03<00:00, 23.19it/s]\n"
          ]
        },
        {
          "output_type": "stream",
          "name": "stdout",
          "text": [
            "epoch: 0;  loss:0.3544\t val_loss: 0.0027074101381003857\n"
          ]
        },
        {
          "output_type": "stream",
          "name": "stderr",
          "text": [
            "100%|██████████| 391/391 [00:15<00:00, 24.69it/s]\n",
            "100%|██████████| 79/79 [00:02<00:00, 29.24it/s]\n"
          ]
        },
        {
          "output_type": "stream",
          "name": "stdout",
          "text": [
            "epoch: 1;  loss:0.2644\t val_loss: 0.0024893973022699356\n"
          ]
        },
        {
          "output_type": "stream",
          "name": "stderr",
          "text": [
            "100%|██████████| 391/391 [00:15<00:00, 25.03it/s]\n",
            "100%|██████████| 79/79 [00:03<00:00, 21.90it/s]\n"
          ]
        },
        {
          "output_type": "stream",
          "name": "stdout",
          "text": [
            "epoch: 2;  loss:0.3245\t val_loss: 0.0023141789715737104\n"
          ]
        },
        {
          "output_type": "stream",
          "name": "stderr",
          "text": [
            "100%|██████████| 391/391 [00:15<00:00, 25.36it/s]\n",
            "100%|██████████| 79/79 [00:03<00:00, 23.42it/s]\n"
          ]
        },
        {
          "output_type": "stream",
          "name": "stdout",
          "text": [
            "epoch: 3;  loss:0.3108\t val_loss: 0.0022129318676888943\n"
          ]
        },
        {
          "output_type": "stream",
          "name": "stderr",
          "text": [
            "100%|██████████| 391/391 [00:15<00:00, 25.15it/s]\n",
            "100%|██████████| 79/79 [00:03<00:00, 21.65it/s]\n"
          ]
        },
        {
          "output_type": "stream",
          "name": "stdout",
          "text": [
            "epoch: 4;  loss:0.311\t val_loss: 0.0021083734463900328\n"
          ]
        },
        {
          "output_type": "stream",
          "name": "stderr",
          "text": [
            "100%|██████████| 391/391 [00:15<00:00, 25.01it/s]\n",
            "100%|██████████| 79/79 [00:02<00:00, 28.79it/s]\n"
          ]
        },
        {
          "output_type": "stream",
          "name": "stdout",
          "text": [
            "epoch: 5;  loss:0.1942\t val_loss: 0.0019892866257578135\n"
          ]
        },
        {
          "output_type": "stream",
          "name": "stderr",
          "text": [
            "100%|██████████| 391/391 [00:15<00:00, 24.85it/s]\n",
            "100%|██████████| 79/79 [00:03<00:00, 24.05it/s]\n"
          ]
        },
        {
          "output_type": "stream",
          "name": "stdout",
          "text": [
            "epoch: 6;  loss:0.2321\t val_loss: 0.001889082952402532\n"
          ]
        },
        {
          "output_type": "stream",
          "name": "stderr",
          "text": [
            "100%|██████████| 391/391 [00:16<00:00, 24.43it/s]\n",
            "100%|██████████| 79/79 [00:02<00:00, 28.93it/s]\n"
          ]
        },
        {
          "output_type": "stream",
          "name": "stdout",
          "text": [
            "epoch: 7;  loss:0.2264\t val_loss: 0.0018074472900480032\n"
          ]
        },
        {
          "output_type": "stream",
          "name": "stderr",
          "text": [
            "100%|██████████| 391/391 [00:15<00:00, 24.94it/s]\n",
            "100%|██████████| 79/79 [00:03<00:00, 25.56it/s]\n"
          ]
        },
        {
          "output_type": "stream",
          "name": "stdout",
          "text": [
            "epoch: 8;  loss:0.1931\t val_loss: 0.001720763393677771\n"
          ]
        },
        {
          "output_type": "stream",
          "name": "stderr",
          "text": [
            "100%|██████████| 391/391 [00:17<00:00, 21.83it/s]\n",
            "100%|██████████| 79/79 [00:02<00:00, 29.22it/s]"
          ]
        },
        {
          "output_type": "stream",
          "name": "stdout",
          "text": [
            "epoch: 9;  loss:0.2343\t val_loss: 0.001648467849008739\n"
          ]
        },
        {
          "output_type": "stream",
          "name": "stderr",
          "text": [
            "\n"
          ]
        }
      ]
    },
    {
      "cell_type": "code",
      "source": [
        "img = cv2.imread('/content/Ry0v6.png', cv2.IMREAD_GRAYSCALE)\n",
        "img = np.expand_dims(img, axis = 0)\n",
        "img = np.expand_dims(img, axis = 0)\n",
        "img =img.astype(np.float32)/255.0\n",
        "img = torch.from_numpy(img)\n",
        "\n",
        "pred = model(img)\n",
        "pred = torch.argmax(pred, -1)\n",
        "\n",
        "print(pred)\n",
        "# Анализ предсказания\n",
        "'''\n",
        "predicted_class = torch.argmax(output).item()\n",
        "print(\"Predicted class:\", predicted_class)\n",
        "'''"
      ],
      "metadata": {
        "colab": {
          "base_uri": "https://localhost:8080/",
          "height": 53
        },
        "id": "lHvQ_4DH0c6l",
        "outputId": "59c16b3b-b59a-440b-bab0-a94d357faa3c"
      },
      "execution_count": 50,
      "outputs": [
        {
          "output_type": "stream",
          "name": "stdout",
          "text": [
            "tensor([1])\n"
          ]
        },
        {
          "output_type": "execute_result",
          "data": {
            "text/plain": [
              "'\\npredicted_class = torch.argmax(output).item()\\nprint(\"Predicted class:\", predicted_class)\\n'"
            ],
            "application/vnd.google.colaboratory.intrinsic+json": {
              "type": "string"
            }
          },
          "metadata": {},
          "execution_count": 50
        }
      ]
    }
  ]
}